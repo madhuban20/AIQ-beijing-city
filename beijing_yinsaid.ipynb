{
  "nbformat": 4,
  "nbformat_minor": 0,
  "metadata": {
    "colab": {
      "name": "beijing_yinsaid.ipynb",
      "provenance": [],
      "collapsed_sections": []
    },
    "kernelspec": {
      "display_name": "Python 3",
      "language": "python",
      "name": "python3"
    },
    "language_info": {
      "codemirror_mode": {
        "name": "ipython",
        "version": 3
      },
      "file_extension": ".py",
      "mimetype": "text/x-python",
      "name": "python",
      "nbconvert_exporter": "python",
      "pygments_lexer": "ipython3",
      "version": "3.8.5"
    }
  },
  "cells": [
    {
      "cell_type": "markdown",
      "metadata": {
        "id": "Aew4bgNerjxl"
      },
      "source": [
        "<center><img src=\"https://github.com/insaid2018/Term-1/blob/master/Images/INSAID_Full%20Logo.png?raw=true\" width=\"240\" height=\"120\" /></center>"
      ]
    },
    {
      "cell_type": "markdown",
      "metadata": {
        "id": "Wen3uYwIfvSZ"
      },
      "source": [
        "---\n",
        "# **Table of Contents**\n",
        "---\n",
        "\n",
        "**1.** [**Introduction**](#Section1)<br>\n",
        "  - **1.1** [**Linear Regression Equation**](#Section11)\n",
        "  - **1.2** [**Assumptions of Linear Regression**](#Section12)\n",
        "\n",
        "**2.** [**Problem Statement**](#Section2)<br>\n",
        "**3.** [**Installing & Importing Libraries**](#Section3)<br>\n",
        "  - **3.1** [**Installing Libraries**](#Section31)\n",
        "  - **3.2** [**Importing Libraries**](#Section32)\n",
        "\n",
        "**4.** [**Data Acquisition & Description**](#Section4)<br>\n",
        "  - **4.1** [**Data Description**](#Section41)\n",
        "  - **4.2** [**Data Information**](#Section42)\n",
        "\n",
        "**5.** [**Data Pre-processing**](#Section5)<br>\n",
        "  - **5.1** [**Pre-Profiling Report**](#Section51)<br>\n",
        "\n",
        "**6.** [**Exploratory Data Analysis**](#Section6)<br>\n",
        "**7.** [**Post Data Processing**](#Section7)<br>\n",
        "  - **7.1** [**Data Standardization**](#Section71)<br>\n",
        "  - **7.2** [**Data Preparation**](#Section73)<br>\n",
        "\n",
        "**8.** [**Model Development & Evaluation**](#Section8)<br>\n",
        "  - **8.1** [**Linear Regression in Scikit-Learn**](#Section81)<br>\n",
        "  - **8.2** [**Interpreting Model Coefficients**](#Section82)<br>\n",
        "  - **8.3** [**Using the Model for Prediction**](#Section83)<br>\n",
        "  - **8.4** [**Model Evaluation**](#section84)<br>\n",
        "  - **8.5** [**Model Evaluation using R-Squared and adjusted R-squared**](#section85)<br>\n",
        "\n",
        "**9.** [**Conclusion**](#Section9)<br>\n",
        "\n"
      ]
    },
    {
      "cell_type": "markdown",
      "metadata": {
        "id": "vMY5oyUPHR1a"
      },
      "source": [
        "---\n",
        "# 3. Installing & Importing Libraries\n",
        "---"
      ]
    },
    {
      "cell_type": "markdown",
      "metadata": {
        "id": "GO8A-0t9f4SH"
      },
      "source": [
        "<a name = Section31></a>\n",
        "### **3.1 Installing Libraries**"
      ]
    },
    {
      "cell_type": "code",
      "metadata": {
        "colab": {
          "base_uri": "https://localhost:8080/",
          "height": 390
        },
        "id": "tgQOEhmAfgNc",
        "outputId": "ddc5f646-e8cb-4c29-f4ee-ea3100760b77"
      },
      "source": [
        "!pip install --upgrade --force-reinstall pandas\n",
        "!pip install -q datascience                  \n",
        "!pip install -q pandas-profiling   "
      ],
      "execution_count": null,
      "outputs": [
        {
          "output_type": "stream",
          "text": [
            "Collecting pandas"
          ],
          "name": "stdout"
        },
        {
          "output_type": "stream",
          "text": [
            "ERROR: After October 2020 you may experience errors when installing or updating packages. This is because pip will change the way that it resolves dependency conflicts.\n",
            "\n",
            "We recommend you use --use-feature=2020-resolver to test your packages with the new resolver before it becomes the default.\n",
            "\n",
            "conda-repo-cli 1.0.4 requires pathlib, which is not installed.\n"
          ],
          "name": "stderr"
        },
        {
          "output_type": "stream",
          "text": [
            "\n",
            "  Using cached pandas-1.2.4-cp38-cp38-win_amd64.whl (9.3 MB)\n",
            "Collecting numpy>=1.16.5\n",
            "  Using cached numpy-1.20.3-cp38-cp38-win_amd64.whl (13.7 MB)\n",
            "Collecting pytz>=2017.3\n",
            "  Using cached pytz-2021.1-py2.py3-none-any.whl (510 kB)\n",
            "Collecting python-dateutil>=2.7.3\n",
            "  Using cached python_dateutil-2.8.1-py2.py3-none-any.whl (227 kB)\n",
            "Collecting six>=1.5\n",
            "  Using cached six-1.16.0-py2.py3-none-any.whl (11 kB)\n",
            "Installing collected packages: numpy, pytz, six, python-dateutil, pandas\n",
            "  Attempting uninstall: numpy\n",
            "    Found existing installation: numpy 1.20.3\n",
            "    Uninstalling numpy-1.20.3:\n",
            "      Successfully uninstalled numpy-1.20.3\n",
            "  Attempting uninstall: pytz\n",
            "    Found existing installation: pytz 2021.1\n",
            "    Uninstalling pytz-2021.1:\n",
            "      Successfully uninstalled pytz-2021.1\n",
            "  Attempting uninstall: six\n",
            "    Found existing installation: six 1.16.0\n",
            "    Uninstalling six-1.16.0:\n",
            "      Successfully uninstalled six-1.16.0\n",
            "  Attempting uninstall: python-dateutil\n",
            "    Found existing installation: python-dateutil 2.8.1\n",
            "    Uninstalling python-dateutil-2.8.1:\n",
            "      Successfully uninstalled python-dateutil-2.8.1\n",
            "  Attempting uninstall: pandas\n",
            "    Found existing installation: pandas 1.2.4\n",
            "    Uninstalling pandas-1.2.4:\n",
            "      Successfully uninstalled pandas-1.2.4\n",
            "Successfully installed numpy-1.20.3 pandas-1.2.4 python-dateutil-2.8.1 pytz-2021.1 six-1.16.0\n"
          ],
          "name": "stdout"
        }
      ]
    },
    {
      "cell_type": "markdown",
      "metadata": {
        "id": "BfhQ7YSBrjxp"
      },
      "source": [
        "### 3.2. **Importing Packages** "
      ]
    },
    {
      "cell_type": "code",
      "metadata": {
        "id": "9KpckLk0gAio"
      },
      "source": [
        "#------------------------------------------------------------------------------------------------------------------------------\n",
        "import pandas as pd                                                 # Importing for panel data analysis\n",
        "from pandas_profiling import ProfileReport                          # Import Pandas Profiling (To generate Univariate Analysis) \n",
        "pd.set_option('display.max_columns', None)                          # Unfolding hidden features if the cardinality is high      \n",
        "pd.set_option('display.max_rows', None)                             # Unfolding hidden data points if the cardinality is high\n",
        "pd.set_option('mode.chained_assignment', None)                      # Removing restriction over chained assignments operations\n",
        "pd.set_option('display.float_format', lambda x: '%.5f' % x)         # To suppress scientific notation over exponential values\n",
        "#-------------------------------------------------------------------------------------------------------------------------------\n",
        "import numpy as np                                                  # Importing package numpys (For Numerical Python)\n",
        "#-------------------------------------------------------------------------------------------------------------------------------\n",
        "import matplotlib.pyplot as plt                                     # Importing pyplot interface using matplotlib\n",
        "import seaborn as sns                                               # Importin seaborm library for interactive visualization\n",
        "%matplotlib inline\n",
        "#-------------------------------------------------------------------------------------------------------------------------------\n",
        "from sklearn.model_selection import train_test_split                # To split the data in training and testing part     \n",
        "from sklearn.linear_model import LinearRegression\n",
        "from sklearn import preprocessing\n",
        "#-------------------------------------------------------------------------------------------------------------------------------\n",
        "import warnings                                                     # Importing warning to disable runtime warnings\n",
        "warnings.filterwarnings(\"ignore\")                                   # Warnings will appear only once"
      ],
      "execution_count": 127,
      "outputs": []
    },
    {
      "cell_type": "code",
      "metadata": {
        "id": "dEGoJOJIicNZ"
      },
      "source": [
        "import scipy.stats as stats"
      ],
      "execution_count": 111,
      "outputs": []
    },
    {
      "cell_type": "code",
      "metadata": {
        "colab": {
          "base_uri": "https://localhost:8080/",
          "height": 1000
        },
        "id": "LcnQY15yLyg6",
        "outputId": "6bb475b5-0480-4ab0-a0b5-ffadbd7bff46"
      },
      "source": [
        "data_train = pd.read_csv(r\"beijing_train.csv\", index_col=0) \n",
        "print('Data Shape:', data_train.shape)\n",
        "display(data_train.head(30))\n",
        "\n",
        "\n",
        "data_train.info()\n"
      ],
      "execution_count": 128,
      "outputs": [
        {
          "output_type": "stream",
          "text": [
            "Data Shape: (403776, 17)\n"
          ],
          "name": "stdout"
        },
        {
          "output_type": "display_data",
          "data": {
            "text/html": [
              "<div>\n",
              "<style scoped>\n",
              "    .dataframe tbody tr th:only-of-type {\n",
              "        vertical-align: middle;\n",
              "    }\n",
              "\n",
              "    .dataframe tbody tr th {\n",
              "        vertical-align: top;\n",
              "    }\n",
              "\n",
              "    .dataframe thead th {\n",
              "        text-align: right;\n",
              "    }\n",
              "</style>\n",
              "<table border=\"1\" class=\"dataframe\">\n",
              "  <thead>\n",
              "    <tr style=\"text-align: right;\">\n",
              "      <th></th>\n",
              "      <th>year</th>\n",
              "      <th>month</th>\n",
              "      <th>day</th>\n",
              "      <th>hour</th>\n",
              "      <th>PM2.5</th>\n",
              "      <th>PM10</th>\n",
              "      <th>SO2</th>\n",
              "      <th>NO2</th>\n",
              "      <th>CO</th>\n",
              "      <th>O3</th>\n",
              "      <th>TEMP</th>\n",
              "      <th>PRES</th>\n",
              "      <th>DEWP</th>\n",
              "      <th>RAIN</th>\n",
              "      <th>wd</th>\n",
              "      <th>WSPM</th>\n",
              "      <th>station</th>\n",
              "    </tr>\n",
              "    <tr>\n",
              "      <th>REF_NO</th>\n",
              "      <th></th>\n",
              "      <th></th>\n",
              "      <th></th>\n",
              "      <th></th>\n",
              "      <th></th>\n",
              "      <th></th>\n",
              "      <th></th>\n",
              "      <th></th>\n",
              "      <th></th>\n",
              "      <th></th>\n",
              "      <th></th>\n",
              "      <th></th>\n",
              "      <th></th>\n",
              "      <th></th>\n",
              "      <th></th>\n",
              "      <th></th>\n",
              "      <th></th>\n",
              "    </tr>\n",
              "  </thead>\n",
              "  <tbody>\n",
              "    <tr>\n",
              "      <th>1</th>\n",
              "      <td>2013</td>\n",
              "      <td>3</td>\n",
              "      <td>1</td>\n",
              "      <td>0</td>\n",
              "      <td>4.00000</td>\n",
              "      <td>4.00000</td>\n",
              "      <td>4.00000</td>\n",
              "      <td>7.00000</td>\n",
              "      <td>300.00000</td>\n",
              "      <td>77.00000</td>\n",
              "      <td>-0.70000</td>\n",
              "      <td>1023.00000</td>\n",
              "      <td>-18.80000</td>\n",
              "      <td>0.00000</td>\n",
              "      <td>NNW</td>\n",
              "      <td>4.40000</td>\n",
              "      <td>Aotizhongxin</td>\n",
              "    </tr>\n",
              "    <tr>\n",
              "      <th>2</th>\n",
              "      <td>2013</td>\n",
              "      <td>3</td>\n",
              "      <td>1</td>\n",
              "      <td>1</td>\n",
              "      <td>8.00000</td>\n",
              "      <td>8.00000</td>\n",
              "      <td>4.00000</td>\n",
              "      <td>7.00000</td>\n",
              "      <td>300.00000</td>\n",
              "      <td>77.00000</td>\n",
              "      <td>-1.10000</td>\n",
              "      <td>1023.20000</td>\n",
              "      <td>-18.20000</td>\n",
              "      <td>0.00000</td>\n",
              "      <td>N</td>\n",
              "      <td>4.70000</td>\n",
              "      <td>Aotizhongxin</td>\n",
              "    </tr>\n",
              "    <tr>\n",
              "      <th>3</th>\n",
              "      <td>2013</td>\n",
              "      <td>3</td>\n",
              "      <td>1</td>\n",
              "      <td>2</td>\n",
              "      <td>7.00000</td>\n",
              "      <td>7.00000</td>\n",
              "      <td>5.00000</td>\n",
              "      <td>10.00000</td>\n",
              "      <td>300.00000</td>\n",
              "      <td>73.00000</td>\n",
              "      <td>-1.10000</td>\n",
              "      <td>1023.50000</td>\n",
              "      <td>-18.20000</td>\n",
              "      <td>0.00000</td>\n",
              "      <td>NNW</td>\n",
              "      <td>5.60000</td>\n",
              "      <td>Aotizhongxin</td>\n",
              "    </tr>\n",
              "    <tr>\n",
              "      <th>4</th>\n",
              "      <td>2013</td>\n",
              "      <td>3</td>\n",
              "      <td>1</td>\n",
              "      <td>3</td>\n",
              "      <td>6.00000</td>\n",
              "      <td>6.00000</td>\n",
              "      <td>11.00000</td>\n",
              "      <td>11.00000</td>\n",
              "      <td>300.00000</td>\n",
              "      <td>72.00000</td>\n",
              "      <td>-1.40000</td>\n",
              "      <td>1024.50000</td>\n",
              "      <td>-19.40000</td>\n",
              "      <td>0.00000</td>\n",
              "      <td>NW</td>\n",
              "      <td>3.10000</td>\n",
              "      <td>Aotizhongxin</td>\n",
              "    </tr>\n",
              "    <tr>\n",
              "      <th>5</th>\n",
              "      <td>2013</td>\n",
              "      <td>3</td>\n",
              "      <td>1</td>\n",
              "      <td>4</td>\n",
              "      <td>3.00000</td>\n",
              "      <td>3.00000</td>\n",
              "      <td>12.00000</td>\n",
              "      <td>12.00000</td>\n",
              "      <td>300.00000</td>\n",
              "      <td>72.00000</td>\n",
              "      <td>-2.00000</td>\n",
              "      <td>1025.20000</td>\n",
              "      <td>-19.50000</td>\n",
              "      <td>0.00000</td>\n",
              "      <td>N</td>\n",
              "      <td>2.00000</td>\n",
              "      <td>Aotizhongxin</td>\n",
              "    </tr>\n",
              "    <tr>\n",
              "      <th>6</th>\n",
              "      <td>2013</td>\n",
              "      <td>3</td>\n",
              "      <td>1</td>\n",
              "      <td>5</td>\n",
              "      <td>5.00000</td>\n",
              "      <td>5.00000</td>\n",
              "      <td>18.00000</td>\n",
              "      <td>18.00000</td>\n",
              "      <td>400.00000</td>\n",
              "      <td>66.00000</td>\n",
              "      <td>-2.20000</td>\n",
              "      <td>1025.60000</td>\n",
              "      <td>-19.60000</td>\n",
              "      <td>0.00000</td>\n",
              "      <td>N</td>\n",
              "      <td>3.70000</td>\n",
              "      <td>Aotizhongxin</td>\n",
              "    </tr>\n",
              "    <tr>\n",
              "      <th>7</th>\n",
              "      <td>2013</td>\n",
              "      <td>3</td>\n",
              "      <td>1</td>\n",
              "      <td>6</td>\n",
              "      <td>3.00000</td>\n",
              "      <td>3.00000</td>\n",
              "      <td>18.00000</td>\n",
              "      <td>32.00000</td>\n",
              "      <td>500.00000</td>\n",
              "      <td>50.00000</td>\n",
              "      <td>-2.60000</td>\n",
              "      <td>1026.50000</td>\n",
              "      <td>-19.10000</td>\n",
              "      <td>0.00000</td>\n",
              "      <td>NNE</td>\n",
              "      <td>2.50000</td>\n",
              "      <td>Aotizhongxin</td>\n",
              "    </tr>\n",
              "    <tr>\n",
              "      <th>8</th>\n",
              "      <td>2013</td>\n",
              "      <td>3</td>\n",
              "      <td>1</td>\n",
              "      <td>7</td>\n",
              "      <td>3.00000</td>\n",
              "      <td>6.00000</td>\n",
              "      <td>19.00000</td>\n",
              "      <td>41.00000</td>\n",
              "      <td>500.00000</td>\n",
              "      <td>43.00000</td>\n",
              "      <td>-1.60000</td>\n",
              "      <td>1027.40000</td>\n",
              "      <td>-19.10000</td>\n",
              "      <td>0.00000</td>\n",
              "      <td>NNW</td>\n",
              "      <td>3.80000</td>\n",
              "      <td>Aotizhongxin</td>\n",
              "    </tr>\n",
              "    <tr>\n",
              "      <th>9</th>\n",
              "      <td>2013</td>\n",
              "      <td>3</td>\n",
              "      <td>1</td>\n",
              "      <td>8</td>\n",
              "      <td>3.00000</td>\n",
              "      <td>6.00000</td>\n",
              "      <td>16.00000</td>\n",
              "      <td>43.00000</td>\n",
              "      <td>500.00000</td>\n",
              "      <td>45.00000</td>\n",
              "      <td>0.10000</td>\n",
              "      <td>1028.30000</td>\n",
              "      <td>-19.20000</td>\n",
              "      <td>0.00000</td>\n",
              "      <td>NNW</td>\n",
              "      <td>4.10000</td>\n",
              "      <td>Aotizhongxin</td>\n",
              "    </tr>\n",
              "    <tr>\n",
              "      <th>10</th>\n",
              "      <td>2013</td>\n",
              "      <td>3</td>\n",
              "      <td>1</td>\n",
              "      <td>9</td>\n",
              "      <td>3.00000</td>\n",
              "      <td>8.00000</td>\n",
              "      <td>12.00000</td>\n",
              "      <td>28.00000</td>\n",
              "      <td>400.00000</td>\n",
              "      <td>59.00000</td>\n",
              "      <td>1.20000</td>\n",
              "      <td>1028.50000</td>\n",
              "      <td>-19.30000</td>\n",
              "      <td>0.00000</td>\n",
              "      <td>N</td>\n",
              "      <td>2.60000</td>\n",
              "      <td>Aotizhongxin</td>\n",
              "    </tr>\n",
              "    <tr>\n",
              "      <th>11</th>\n",
              "      <td>2013</td>\n",
              "      <td>3</td>\n",
              "      <td>1</td>\n",
              "      <td>10</td>\n",
              "      <td>3.00000</td>\n",
              "      <td>6.00000</td>\n",
              "      <td>9.00000</td>\n",
              "      <td>12.00000</td>\n",
              "      <td>400.00000</td>\n",
              "      <td>72.00000</td>\n",
              "      <td>1.90000</td>\n",
              "      <td>1028.20000</td>\n",
              "      <td>-19.40000</td>\n",
              "      <td>0.00000</td>\n",
              "      <td>NNW</td>\n",
              "      <td>3.60000</td>\n",
              "      <td>Aotizhongxin</td>\n",
              "    </tr>\n",
              "    <tr>\n",
              "      <th>12</th>\n",
              "      <td>2013</td>\n",
              "      <td>3</td>\n",
              "      <td>1</td>\n",
              "      <td>11</td>\n",
              "      <td>3.00000</td>\n",
              "      <td>6.00000</td>\n",
              "      <td>9.00000</td>\n",
              "      <td>14.00000</td>\n",
              "      <td>400.00000</td>\n",
              "      <td>71.00000</td>\n",
              "      <td>2.90000</td>\n",
              "      <td>1028.20000</td>\n",
              "      <td>-20.50000</td>\n",
              "      <td>0.00000</td>\n",
              "      <td>N</td>\n",
              "      <td>3.70000</td>\n",
              "      <td>Aotizhongxin</td>\n",
              "    </tr>\n",
              "    <tr>\n",
              "      <th>13</th>\n",
              "      <td>2013</td>\n",
              "      <td>3</td>\n",
              "      <td>1</td>\n",
              "      <td>12</td>\n",
              "      <td>3.00000</td>\n",
              "      <td>6.00000</td>\n",
              "      <td>7.00000</td>\n",
              "      <td>13.00000</td>\n",
              "      <td>300.00000</td>\n",
              "      <td>74.00000</td>\n",
              "      <td>3.90000</td>\n",
              "      <td>1027.30000</td>\n",
              "      <td>-19.70000</td>\n",
              "      <td>0.00000</td>\n",
              "      <td>NNW</td>\n",
              "      <td>5.10000</td>\n",
              "      <td>Aotizhongxin</td>\n",
              "    </tr>\n",
              "    <tr>\n",
              "      <th>14</th>\n",
              "      <td>2013</td>\n",
              "      <td>3</td>\n",
              "      <td>1</td>\n",
              "      <td>13</td>\n",
              "      <td>3.00000</td>\n",
              "      <td>6.00000</td>\n",
              "      <td>7.00000</td>\n",
              "      <td>12.00000</td>\n",
              "      <td>400.00000</td>\n",
              "      <td>76.00000</td>\n",
              "      <td>5.30000</td>\n",
              "      <td>1026.20000</td>\n",
              "      <td>-19.30000</td>\n",
              "      <td>0.00000</td>\n",
              "      <td>NW</td>\n",
              "      <td>4.30000</td>\n",
              "      <td>Aotizhongxin</td>\n",
              "    </tr>\n",
              "    <tr>\n",
              "      <th>15</th>\n",
              "      <td>2013</td>\n",
              "      <td>3</td>\n",
              "      <td>1</td>\n",
              "      <td>14</td>\n",
              "      <td>6.00000</td>\n",
              "      <td>9.00000</td>\n",
              "      <td>7.00000</td>\n",
              "      <td>11.00000</td>\n",
              "      <td>400.00000</td>\n",
              "      <td>77.00000</td>\n",
              "      <td>6.00000</td>\n",
              "      <td>1025.90000</td>\n",
              "      <td>-19.60000</td>\n",
              "      <td>0.00000</td>\n",
              "      <td>NW</td>\n",
              "      <td>4.40000</td>\n",
              "      <td>Aotizhongxin</td>\n",
              "    </tr>\n",
              "    <tr>\n",
              "      <th>16</th>\n",
              "      <td>2013</td>\n",
              "      <td>3</td>\n",
              "      <td>1</td>\n",
              "      <td>15</td>\n",
              "      <td>8.00000</td>\n",
              "      <td>15.00000</td>\n",
              "      <td>7.00000</td>\n",
              "      <td>14.00000</td>\n",
              "      <td>400.00000</td>\n",
              "      <td>76.00000</td>\n",
              "      <td>6.20000</td>\n",
              "      <td>1025.70000</td>\n",
              "      <td>-18.60000</td>\n",
              "      <td>0.00000</td>\n",
              "      <td>NNE</td>\n",
              "      <td>2.80000</td>\n",
              "      <td>Aotizhongxin</td>\n",
              "    </tr>\n",
              "    <tr>\n",
              "      <th>17</th>\n",
              "      <td>2013</td>\n",
              "      <td>3</td>\n",
              "      <td>1</td>\n",
              "      <td>16</td>\n",
              "      <td>9.00000</td>\n",
              "      <td>19.00000</td>\n",
              "      <td>9.00000</td>\n",
              "      <td>13.00000</td>\n",
              "      <td>400.00000</td>\n",
              "      <td>76.00000</td>\n",
              "      <td>5.90000</td>\n",
              "      <td>1025.60000</td>\n",
              "      <td>-18.10000</td>\n",
              "      <td>0.00000</td>\n",
              "      <td>NNW</td>\n",
              "      <td>3.90000</td>\n",
              "      <td>Aotizhongxin</td>\n",
              "    </tr>\n",
              "    <tr>\n",
              "      <th>18</th>\n",
              "      <td>2013</td>\n",
              "      <td>3</td>\n",
              "      <td>1</td>\n",
              "      <td>17</td>\n",
              "      <td>10.00000</td>\n",
              "      <td>23.00000</td>\n",
              "      <td>11.00000</td>\n",
              "      <td>15.00000</td>\n",
              "      <td>400.00000</td>\n",
              "      <td>74.00000</td>\n",
              "      <td>4.30000</td>\n",
              "      <td>1026.30000</td>\n",
              "      <td>-18.70000</td>\n",
              "      <td>0.00000</td>\n",
              "      <td>NNE</td>\n",
              "      <td>2.80000</td>\n",
              "      <td>Aotizhongxin</td>\n",
              "    </tr>\n",
              "    <tr>\n",
              "      <th>19</th>\n",
              "      <td>2013</td>\n",
              "      <td>3</td>\n",
              "      <td>1</td>\n",
              "      <td>18</td>\n",
              "      <td>11.00000</td>\n",
              "      <td>20.00000</td>\n",
              "      <td>8.00000</td>\n",
              "      <td>20.00000</td>\n",
              "      <td>500.00000</td>\n",
              "      <td>70.00000</td>\n",
              "      <td>3.10000</td>\n",
              "      <td>1027.40000</td>\n",
              "      <td>-18.40000</td>\n",
              "      <td>0.00000</td>\n",
              "      <td>NNE</td>\n",
              "      <td>2.10000</td>\n",
              "      <td>Aotizhongxin</td>\n",
              "    </tr>\n",
              "    <tr>\n",
              "      <th>20</th>\n",
              "      <td>2013</td>\n",
              "      <td>3</td>\n",
              "      <td>1</td>\n",
              "      <td>19</td>\n",
              "      <td>8.00000</td>\n",
              "      <td>14.00000</td>\n",
              "      <td>12.00000</td>\n",
              "      <td>30.00000</td>\n",
              "      <td>500.00000</td>\n",
              "      <td>60.00000</td>\n",
              "      <td>2.30000</td>\n",
              "      <td>1028.30000</td>\n",
              "      <td>-18.40000</td>\n",
              "      <td>0.00000</td>\n",
              "      <td>N</td>\n",
              "      <td>2.80000</td>\n",
              "      <td>Aotizhongxin</td>\n",
              "    </tr>\n",
              "    <tr>\n",
              "      <th>21</th>\n",
              "      <td>2013</td>\n",
              "      <td>3</td>\n",
              "      <td>1</td>\n",
              "      <td>20</td>\n",
              "      <td>11.00000</td>\n",
              "      <td>17.00000</td>\n",
              "      <td>13.00000</td>\n",
              "      <td>33.00000</td>\n",
              "      <td>600.00000</td>\n",
              "      <td>55.00000</td>\n",
              "      <td>1.70000</td>\n",
              "      <td>1029.10000</td>\n",
              "      <td>-17.30000</td>\n",
              "      <td>0.00000</td>\n",
              "      <td>N</td>\n",
              "      <td>2.10000</td>\n",
              "      <td>Aotizhongxin</td>\n",
              "    </tr>\n",
              "    <tr>\n",
              "      <th>22</th>\n",
              "      <td>2013</td>\n",
              "      <td>3</td>\n",
              "      <td>1</td>\n",
              "      <td>21</td>\n",
              "      <td>12.00000</td>\n",
              "      <td>18.00000</td>\n",
              "      <td>16.00000</td>\n",
              "      <td>35.00000</td>\n",
              "      <td>500.00000</td>\n",
              "      <td>50.00000</td>\n",
              "      <td>0.60000</td>\n",
              "      <td>1030.10000</td>\n",
              "      <td>-16.70000</td>\n",
              "      <td>0.00000</td>\n",
              "      <td>ENE</td>\n",
              "      <td>0.80000</td>\n",
              "      <td>Aotizhongxin</td>\n",
              "    </tr>\n",
              "    <tr>\n",
              "      <th>23</th>\n",
              "      <td>2013</td>\n",
              "      <td>3</td>\n",
              "      <td>1</td>\n",
              "      <td>22</td>\n",
              "      <td>15.00000</td>\n",
              "      <td>19.00000</td>\n",
              "      <td>21.00000</td>\n",
              "      <td>57.00000</td>\n",
              "      <td>700.00000</td>\n",
              "      <td>32.00000</td>\n",
              "      <td>0.90000</td>\n",
              "      <td>1030.50000</td>\n",
              "      <td>-17.40000</td>\n",
              "      <td>0.00000</td>\n",
              "      <td>ENE</td>\n",
              "      <td>1.80000</td>\n",
              "      <td>Aotizhongxin</td>\n",
              "    </tr>\n",
              "    <tr>\n",
              "      <th>24</th>\n",
              "      <td>2013</td>\n",
              "      <td>3</td>\n",
              "      <td>1</td>\n",
              "      <td>23</td>\n",
              "      <td>24.00000</td>\n",
              "      <td>24.00000</td>\n",
              "      <td>26.00000</td>\n",
              "      <td>54.00000</td>\n",
              "      <td>600.00000</td>\n",
              "      <td>36.00000</td>\n",
              "      <td>-0.20000</td>\n",
              "      <td>1030.50000</td>\n",
              "      <td>-17.40000</td>\n",
              "      <td>0.00000</td>\n",
              "      <td>ENE</td>\n",
              "      <td>1.40000</td>\n",
              "      <td>Aotizhongxin</td>\n",
              "    </tr>\n",
              "    <tr>\n",
              "      <th>25</th>\n",
              "      <td>2013</td>\n",
              "      <td>3</td>\n",
              "      <td>2</td>\n",
              "      <td>0</td>\n",
              "      <td>22.00000</td>\n",
              "      <td>24.00000</td>\n",
              "      <td>24.00000</td>\n",
              "      <td>44.00000</td>\n",
              "      <td>500.00000</td>\n",
              "      <td>44.00000</td>\n",
              "      <td>-0.40000</td>\n",
              "      <td>1031.00000</td>\n",
              "      <td>-17.60000</td>\n",
              "      <td>0.00000</td>\n",
              "      <td>ENE</td>\n",
              "      <td>1.40000</td>\n",
              "      <td>Aotizhongxin</td>\n",
              "    </tr>\n",
              "    <tr>\n",
              "      <th>26</th>\n",
              "      <td>2013</td>\n",
              "      <td>3</td>\n",
              "      <td>2</td>\n",
              "      <td>1</td>\n",
              "      <td>14.00000</td>\n",
              "      <td>17.00000</td>\n",
              "      <td>21.00000</td>\n",
              "      <td>36.00000</td>\n",
              "      <td>400.00000</td>\n",
              "      <td>50.00000</td>\n",
              "      <td>-1.00000</td>\n",
              "      <td>1031.30000</td>\n",
              "      <td>-17.30000</td>\n",
              "      <td>0.00000</td>\n",
              "      <td>NNE</td>\n",
              "      <td>1.10000</td>\n",
              "      <td>Aotizhongxin</td>\n",
              "    </tr>\n",
              "    <tr>\n",
              "      <th>27</th>\n",
              "      <td>2013</td>\n",
              "      <td>3</td>\n",
              "      <td>2</td>\n",
              "      <td>2</td>\n",
              "      <td>13.00000</td>\n",
              "      <td>13.00000</td>\n",
              "      <td>20.00000</td>\n",
              "      <td>37.00000</td>\n",
              "      <td>400.00000</td>\n",
              "      <td>47.00000</td>\n",
              "      <td>-1.50000</td>\n",
              "      <td>1030.90000</td>\n",
              "      <td>-16.90000</td>\n",
              "      <td>0.00000</td>\n",
              "      <td>E</td>\n",
              "      <td>1.70000</td>\n",
              "      <td>Aotizhongxin</td>\n",
              "    </tr>\n",
              "    <tr>\n",
              "      <th>28</th>\n",
              "      <td>2013</td>\n",
              "      <td>3</td>\n",
              "      <td>2</td>\n",
              "      <td>3</td>\n",
              "      <td>3.00000</td>\n",
              "      <td>9.00000</td>\n",
              "      <td>13.00000</td>\n",
              "      <td>34.00000</td>\n",
              "      <td>400.00000</td>\n",
              "      <td>52.00000</td>\n",
              "      <td>-1.40000</td>\n",
              "      <td>1030.60000</td>\n",
              "      <td>-17.60000</td>\n",
              "      <td>0.00000</td>\n",
              "      <td>NNE</td>\n",
              "      <td>1.40000</td>\n",
              "      <td>Aotizhongxin</td>\n",
              "    </tr>\n",
              "    <tr>\n",
              "      <th>29</th>\n",
              "      <td>2013</td>\n",
              "      <td>3</td>\n",
              "      <td>2</td>\n",
              "      <td>4</td>\n",
              "      <td>3.00000</td>\n",
              "      <td>7.00000</td>\n",
              "      <td>18.00000</td>\n",
              "      <td>43.00000</td>\n",
              "      <td>400.00000</td>\n",
              "      <td>43.00000</td>\n",
              "      <td>-1.50000</td>\n",
              "      <td>1030.80000</td>\n",
              "      <td>-17.70000</td>\n",
              "      <td>0.00000</td>\n",
              "      <td>NNW</td>\n",
              "      <td>0.90000</td>\n",
              "      <td>Aotizhongxin</td>\n",
              "    </tr>\n",
              "    <tr>\n",
              "      <th>30</th>\n",
              "      <td>2013</td>\n",
              "      <td>3</td>\n",
              "      <td>2</td>\n",
              "      <td>5</td>\n",
              "      <td>9.00000</td>\n",
              "      <td>11.00000</td>\n",
              "      <td>19.00000</td>\n",
              "      <td>70.00000</td>\n",
              "      <td>500.00000</td>\n",
              "      <td>20.00000</td>\n",
              "      <td>-1.80000</td>\n",
              "      <td>1030.10000</td>\n",
              "      <td>-17.50000</td>\n",
              "      <td>0.00000</td>\n",
              "      <td>NNE</td>\n",
              "      <td>2.00000</td>\n",
              "      <td>Aotizhongxin</td>\n",
              "    </tr>\n",
              "  </tbody>\n",
              "</table>\n",
              "</div>"
            ],
            "text/plain": [
              "        year  month  day  hour    PM2.5     PM10      SO2      NO2        CO  \\\n",
              "REF_NO                                                                         \n",
              "1       2013      3    1     0  4.00000  4.00000  4.00000  7.00000 300.00000   \n",
              "2       2013      3    1     1  8.00000  8.00000  4.00000  7.00000 300.00000   \n",
              "3       2013      3    1     2  7.00000  7.00000  5.00000 10.00000 300.00000   \n",
              "4       2013      3    1     3  6.00000  6.00000 11.00000 11.00000 300.00000   \n",
              "5       2013      3    1     4  3.00000  3.00000 12.00000 12.00000 300.00000   \n",
              "6       2013      3    1     5  5.00000  5.00000 18.00000 18.00000 400.00000   \n",
              "7       2013      3    1     6  3.00000  3.00000 18.00000 32.00000 500.00000   \n",
              "8       2013      3    1     7  3.00000  6.00000 19.00000 41.00000 500.00000   \n",
              "9       2013      3    1     8  3.00000  6.00000 16.00000 43.00000 500.00000   \n",
              "10      2013      3    1     9  3.00000  8.00000 12.00000 28.00000 400.00000   \n",
              "11      2013      3    1    10  3.00000  6.00000  9.00000 12.00000 400.00000   \n",
              "12      2013      3    1    11  3.00000  6.00000  9.00000 14.00000 400.00000   \n",
              "13      2013      3    1    12  3.00000  6.00000  7.00000 13.00000 300.00000   \n",
              "14      2013      3    1    13  3.00000  6.00000  7.00000 12.00000 400.00000   \n",
              "15      2013      3    1    14  6.00000  9.00000  7.00000 11.00000 400.00000   \n",
              "16      2013      3    1    15  8.00000 15.00000  7.00000 14.00000 400.00000   \n",
              "17      2013      3    1    16  9.00000 19.00000  9.00000 13.00000 400.00000   \n",
              "18      2013      3    1    17 10.00000 23.00000 11.00000 15.00000 400.00000   \n",
              "19      2013      3    1    18 11.00000 20.00000  8.00000 20.00000 500.00000   \n",
              "20      2013      3    1    19  8.00000 14.00000 12.00000 30.00000 500.00000   \n",
              "21      2013      3    1    20 11.00000 17.00000 13.00000 33.00000 600.00000   \n",
              "22      2013      3    1    21 12.00000 18.00000 16.00000 35.00000 500.00000   \n",
              "23      2013      3    1    22 15.00000 19.00000 21.00000 57.00000 700.00000   \n",
              "24      2013      3    1    23 24.00000 24.00000 26.00000 54.00000 600.00000   \n",
              "25      2013      3    2     0 22.00000 24.00000 24.00000 44.00000 500.00000   \n",
              "26      2013      3    2     1 14.00000 17.00000 21.00000 36.00000 400.00000   \n",
              "27      2013      3    2     2 13.00000 13.00000 20.00000 37.00000 400.00000   \n",
              "28      2013      3    2     3  3.00000  9.00000 13.00000 34.00000 400.00000   \n",
              "29      2013      3    2     4  3.00000  7.00000 18.00000 43.00000 400.00000   \n",
              "30      2013      3    2     5  9.00000 11.00000 19.00000 70.00000 500.00000   \n",
              "\n",
              "             O3     TEMP       PRES      DEWP    RAIN   wd    WSPM  \\\n",
              "REF_NO                                                               \n",
              "1      77.00000 -0.70000 1023.00000 -18.80000 0.00000  NNW 4.40000   \n",
              "2      77.00000 -1.10000 1023.20000 -18.20000 0.00000    N 4.70000   \n",
              "3      73.00000 -1.10000 1023.50000 -18.20000 0.00000  NNW 5.60000   \n",
              "4      72.00000 -1.40000 1024.50000 -19.40000 0.00000   NW 3.10000   \n",
              "5      72.00000 -2.00000 1025.20000 -19.50000 0.00000    N 2.00000   \n",
              "6      66.00000 -2.20000 1025.60000 -19.60000 0.00000    N 3.70000   \n",
              "7      50.00000 -2.60000 1026.50000 -19.10000 0.00000  NNE 2.50000   \n",
              "8      43.00000 -1.60000 1027.40000 -19.10000 0.00000  NNW 3.80000   \n",
              "9      45.00000  0.10000 1028.30000 -19.20000 0.00000  NNW 4.10000   \n",
              "10     59.00000  1.20000 1028.50000 -19.30000 0.00000    N 2.60000   \n",
              "11     72.00000  1.90000 1028.20000 -19.40000 0.00000  NNW 3.60000   \n",
              "12     71.00000  2.90000 1028.20000 -20.50000 0.00000    N 3.70000   \n",
              "13     74.00000  3.90000 1027.30000 -19.70000 0.00000  NNW 5.10000   \n",
              "14     76.00000  5.30000 1026.20000 -19.30000 0.00000   NW 4.30000   \n",
              "15     77.00000  6.00000 1025.90000 -19.60000 0.00000   NW 4.40000   \n",
              "16     76.00000  6.20000 1025.70000 -18.60000 0.00000  NNE 2.80000   \n",
              "17     76.00000  5.90000 1025.60000 -18.10000 0.00000  NNW 3.90000   \n",
              "18     74.00000  4.30000 1026.30000 -18.70000 0.00000  NNE 2.80000   \n",
              "19     70.00000  3.10000 1027.40000 -18.40000 0.00000  NNE 2.10000   \n",
              "20     60.00000  2.30000 1028.30000 -18.40000 0.00000    N 2.80000   \n",
              "21     55.00000  1.70000 1029.10000 -17.30000 0.00000    N 2.10000   \n",
              "22     50.00000  0.60000 1030.10000 -16.70000 0.00000  ENE 0.80000   \n",
              "23     32.00000  0.90000 1030.50000 -17.40000 0.00000  ENE 1.80000   \n",
              "24     36.00000 -0.20000 1030.50000 -17.40000 0.00000  ENE 1.40000   \n",
              "25     44.00000 -0.40000 1031.00000 -17.60000 0.00000  ENE 1.40000   \n",
              "26     50.00000 -1.00000 1031.30000 -17.30000 0.00000  NNE 1.10000   \n",
              "27     47.00000 -1.50000 1030.90000 -16.90000 0.00000    E 1.70000   \n",
              "28     52.00000 -1.40000 1030.60000 -17.60000 0.00000  NNE 1.40000   \n",
              "29     43.00000 -1.50000 1030.80000 -17.70000 0.00000  NNW 0.90000   \n",
              "30     20.00000 -1.80000 1030.10000 -17.50000 0.00000  NNE 2.00000   \n",
              "\n",
              "             station  \n",
              "REF_NO                \n",
              "1       Aotizhongxin  \n",
              "2       Aotizhongxin  \n",
              "3       Aotizhongxin  \n",
              "4       Aotizhongxin  \n",
              "5       Aotizhongxin  \n",
              "6       Aotizhongxin  \n",
              "7       Aotizhongxin  \n",
              "8       Aotizhongxin  \n",
              "9       Aotizhongxin  \n",
              "10      Aotizhongxin  \n",
              "11      Aotizhongxin  \n",
              "12      Aotizhongxin  \n",
              "13      Aotizhongxin  \n",
              "14      Aotizhongxin  \n",
              "15      Aotizhongxin  \n",
              "16      Aotizhongxin  \n",
              "17      Aotizhongxin  \n",
              "18      Aotizhongxin  \n",
              "19      Aotizhongxin  \n",
              "20      Aotizhongxin  \n",
              "21      Aotizhongxin  \n",
              "22      Aotizhongxin  \n",
              "23      Aotizhongxin  \n",
              "24      Aotizhongxin  \n",
              "25      Aotizhongxin  \n",
              "26      Aotizhongxin  \n",
              "27      Aotizhongxin  \n",
              "28      Aotizhongxin  \n",
              "29      Aotizhongxin  \n",
              "30      Aotizhongxin  "
            ]
          },
          "metadata": {
            "tags": []
          }
        },
        {
          "output_type": "stream",
          "text": [
            "<class 'pandas.core.frame.DataFrame'>\n",
            "Int64Index: 403776 entries, 1 to 33648\n",
            "Data columns (total 17 columns):\n",
            " #   Column   Non-Null Count   Dtype  \n",
            "---  ------   --------------   -----  \n",
            " 0   year     403776 non-null  int64  \n",
            " 1   month    403776 non-null  int64  \n",
            " 2   day      403776 non-null  int64  \n",
            " 3   hour     403776 non-null  int64  \n",
            " 4   PM2.5    395301 non-null  float64\n",
            " 5   PM10     397554 non-null  float64\n",
            " 6   SO2      395000 non-null  float64\n",
            " 7   NO2      391917 non-null  float64\n",
            " 8   CO       383515 non-null  float64\n",
            " 9   O3       390769 non-null  float64\n",
            " 10  TEMP     403512 non-null  float64\n",
            " 11  PRES     403511 non-null  float64\n",
            " 12  DEWP     403507 non-null  float64\n",
            " 13  RAIN     403515 non-null  float64\n",
            " 14  wd       402387 non-null  object \n",
            " 15  WSPM     403538 non-null  float64\n",
            " 16  station  403776 non-null  object \n",
            "dtypes: float64(11), int64(4), object(2)\n",
            "memory usage: 55.5+ MB\n"
          ],
          "name": "stdout"
        }
      ]
    },
    {
      "cell_type": "markdown",
      "metadata": {
        "id": "IWLkJZjWx2s9"
      },
      "source": [
        "<a name = Section41></a>\n",
        "### **4.1 Data Description**\n",
        "\n",
        "- In this section we will get **information about the data** and see some observations."
      ]
    },
    {
      "cell_type": "code",
      "metadata": {
        "id": "OxFlX-XgCHhd"
      },
      "source": [
        "display(data[['PM2.5','PM10']])"
      ],
      "execution_count": 115,
      "outputs": []
    },
    {
      "cell_type": "code",
      "metadata": {
        "colab": {
          "base_uri": "https://localhost:8080/",
          "height": 315
        },
        "id": "mrLB_rn4icNd",
        "outputId": "00cb1ba6-7802-4cc7-e637-d77e7e627e0a"
      },
      "source": [
        "data_train.describe()\n"
      ],
      "execution_count": 129,
      "outputs": [
        {
          "output_type": "execute_result",
          "data": {
            "text/html": [
              "<div>\n",
              "<style scoped>\n",
              "    .dataframe tbody tr th:only-of-type {\n",
              "        vertical-align: middle;\n",
              "    }\n",
              "\n",
              "    .dataframe tbody tr th {\n",
              "        vertical-align: top;\n",
              "    }\n",
              "\n",
              "    .dataframe thead th {\n",
              "        text-align: right;\n",
              "    }\n",
              "</style>\n",
              "<table border=\"1\" class=\"dataframe\">\n",
              "  <thead>\n",
              "    <tr style=\"text-align: right;\">\n",
              "      <th></th>\n",
              "      <th>year</th>\n",
              "      <th>month</th>\n",
              "      <th>day</th>\n",
              "      <th>hour</th>\n",
              "      <th>PM2.5</th>\n",
              "      <th>PM10</th>\n",
              "      <th>SO2</th>\n",
              "      <th>NO2</th>\n",
              "      <th>CO</th>\n",
              "      <th>O3</th>\n",
              "      <th>TEMP</th>\n",
              "      <th>PRES</th>\n",
              "      <th>DEWP</th>\n",
              "      <th>RAIN</th>\n",
              "      <th>WSPM</th>\n",
              "    </tr>\n",
              "  </thead>\n",
              "  <tbody>\n",
              "    <tr>\n",
              "      <th>count</th>\n",
              "      <td>403776.00000</td>\n",
              "      <td>403776.00000</td>\n",
              "      <td>403776.00000</td>\n",
              "      <td>403776.00000</td>\n",
              "      <td>395301.00000</td>\n",
              "      <td>397554.00000</td>\n",
              "      <td>395000.00000</td>\n",
              "      <td>391917.00000</td>\n",
              "      <td>383515.00000</td>\n",
              "      <td>390769.00000</td>\n",
              "      <td>403512.00000</td>\n",
              "      <td>403511.00000</td>\n",
              "      <td>403507.00000</td>\n",
              "      <td>403515.00000</td>\n",
              "      <td>403538.00000</td>\n",
              "    </tr>\n",
              "    <tr>\n",
              "      <th>mean</th>\n",
              "      <td>2014.56419</td>\n",
              "      <td>6.73538</td>\n",
              "      <td>15.74822</td>\n",
              "      <td>11.50000</td>\n",
              "      <td>79.24828</td>\n",
              "      <td>104.32790</td>\n",
              "      <td>15.73306</td>\n",
              "      <td>50.35278</td>\n",
              "      <td>1214.84334</td>\n",
              "      <td>58.11933</td>\n",
              "      <td>14.08890</td>\n",
              "      <td>1010.28253</td>\n",
              "      <td>3.15729</td>\n",
              "      <td>0.06705</td>\n",
              "      <td>1.71838</td>\n",
              "    </tr>\n",
              "    <tr>\n",
              "      <th>std</th>\n",
              "      <td>1.09750</td>\n",
              "      <td>3.35648</td>\n",
              "      <td>8.80889</td>\n",
              "      <td>6.92220</td>\n",
              "      <td>79.14671</td>\n",
              "      <td>90.13640</td>\n",
              "      <td>21.73946</td>\n",
              "      <td>34.77191</td>\n",
              "      <td>1124.28568</td>\n",
              "      <td>57.37597</td>\n",
              "      <td>11.30353</td>\n",
              "      <td>10.35678</td>\n",
              "      <td>13.61727</td>\n",
              "      <td>0.83784</td>\n",
              "      <td>1.23796</td>\n",
              "    </tr>\n",
              "    <tr>\n",
              "      <th>min</th>\n",
              "      <td>2013.00000</td>\n",
              "      <td>1.00000</td>\n",
              "      <td>1.00000</td>\n",
              "      <td>0.00000</td>\n",
              "      <td>2.00000</td>\n",
              "      <td>2.00000</td>\n",
              "      <td>0.28560</td>\n",
              "      <td>1.02650</td>\n",
              "      <td>100.00000</td>\n",
              "      <td>0.21420</td>\n",
              "      <td>-19.90000</td>\n",
              "      <td>982.40000</td>\n",
              "      <td>-43.40000</td>\n",
              "      <td>0.00000</td>\n",
              "      <td>0.00000</td>\n",
              "    </tr>\n",
              "    <tr>\n",
              "      <th>25%</th>\n",
              "      <td>2014.00000</td>\n",
              "      <td>4.00000</td>\n",
              "      <td>8.00000</td>\n",
              "      <td>5.75000</td>\n",
              "      <td>21.00000</td>\n",
              "      <td>36.00000</td>\n",
              "      <td>2.00000</td>\n",
              "      <td>23.00000</td>\n",
              "      <td>500.00000</td>\n",
              "      <td>11.00000</td>\n",
              "      <td>4.00000</td>\n",
              "      <td>1002.00000</td>\n",
              "      <td>-8.00000</td>\n",
              "      <td>0.00000</td>\n",
              "      <td>0.90000</td>\n",
              "    </tr>\n",
              "    <tr>\n",
              "      <th>50%</th>\n",
              "      <td>2015.00000</td>\n",
              "      <td>7.00000</td>\n",
              "      <td>16.00000</td>\n",
              "      <td>11.50000</td>\n",
              "      <td>55.00000</td>\n",
              "      <td>83.00000</td>\n",
              "      <td>7.00000</td>\n",
              "      <td>43.00000</td>\n",
              "      <td>900.00000</td>\n",
              "      <td>45.00000</td>\n",
              "      <td>15.40000</td>\n",
              "      <td>1009.80000</td>\n",
              "      <td>4.20000</td>\n",
              "      <td>0.00000</td>\n",
              "      <td>1.40000</td>\n",
              "    </tr>\n",
              "    <tr>\n",
              "      <th>75%</th>\n",
              "      <td>2016.00000</td>\n",
              "      <td>10.00000</td>\n",
              "      <td>23.00000</td>\n",
              "      <td>17.25000</td>\n",
              "      <td>110.00000</td>\n",
              "      <td>145.00000</td>\n",
              "      <td>19.00000</td>\n",
              "      <td>71.00000</td>\n",
              "      <td>1500.00000</td>\n",
              "      <td>83.00000</td>\n",
              "      <td>23.50000</td>\n",
              "      <td>1018.30000</td>\n",
              "      <td>15.50000</td>\n",
              "      <td>0.00000</td>\n",
              "      <td>2.20000</td>\n",
              "    </tr>\n",
              "    <tr>\n",
              "      <th>max</th>\n",
              "      <td>2016.00000</td>\n",
              "      <td>12.00000</td>\n",
              "      <td>31.00000</td>\n",
              "      <td>23.00000</td>\n",
              "      <td>999.00000</td>\n",
              "      <td>999.00000</td>\n",
              "      <td>500.00000</td>\n",
              "      <td>290.00000</td>\n",
              "      <td>10000.00000</td>\n",
              "      <td>1071.00000</td>\n",
              "      <td>41.60000</td>\n",
              "      <td>1042.80000</td>\n",
              "      <td>29.10000</td>\n",
              "      <td>72.50000</td>\n",
              "      <td>13.20000</td>\n",
              "    </tr>\n",
              "  </tbody>\n",
              "</table>\n",
              "</div>"
            ],
            "text/plain": [
              "              year        month          day         hour        PM2.5  \\\n",
              "count 403776.00000 403776.00000 403776.00000 403776.00000 395301.00000   \n",
              "mean    2014.56419      6.73538     15.74822     11.50000     79.24828   \n",
              "std        1.09750      3.35648      8.80889      6.92220     79.14671   \n",
              "min     2013.00000      1.00000      1.00000      0.00000      2.00000   \n",
              "25%     2014.00000      4.00000      8.00000      5.75000     21.00000   \n",
              "50%     2015.00000      7.00000     16.00000     11.50000     55.00000   \n",
              "75%     2016.00000     10.00000     23.00000     17.25000    110.00000   \n",
              "max     2016.00000     12.00000     31.00000     23.00000    999.00000   \n",
              "\n",
              "              PM10          SO2          NO2           CO           O3  \\\n",
              "count 397554.00000 395000.00000 391917.00000 383515.00000 390769.00000   \n",
              "mean     104.32790     15.73306     50.35278   1214.84334     58.11933   \n",
              "std       90.13640     21.73946     34.77191   1124.28568     57.37597   \n",
              "min        2.00000      0.28560      1.02650    100.00000      0.21420   \n",
              "25%       36.00000      2.00000     23.00000    500.00000     11.00000   \n",
              "50%       83.00000      7.00000     43.00000    900.00000     45.00000   \n",
              "75%      145.00000     19.00000     71.00000   1500.00000     83.00000   \n",
              "max      999.00000    500.00000    290.00000  10000.00000   1071.00000   \n",
              "\n",
              "              TEMP         PRES         DEWP         RAIN         WSPM  \n",
              "count 403512.00000 403511.00000 403507.00000 403515.00000 403538.00000  \n",
              "mean      14.08890   1010.28253      3.15729      0.06705      1.71838  \n",
              "std       11.30353     10.35678     13.61727      0.83784      1.23796  \n",
              "min      -19.90000    982.40000    -43.40000      0.00000      0.00000  \n",
              "25%        4.00000   1002.00000     -8.00000      0.00000      0.90000  \n",
              "50%       15.40000   1009.80000      4.20000      0.00000      1.40000  \n",
              "75%       23.50000   1018.30000     15.50000      0.00000      2.20000  \n",
              "max       41.60000   1042.80000     29.10000     72.50000     13.20000  "
            ]
          },
          "metadata": {
            "tags": []
          },
          "execution_count": 129
        }
      ]
    },
    {
      "cell_type": "code",
      "metadata": {
        "id": "PUxm6fyyicNf"
      },
      "source": [
        ""
      ],
      "execution_count": 22,
      "outputs": []
    },
    {
      "cell_type": "markdown",
      "metadata": {
        "id": "ofXq-dE8x5lZ"
      },
      "source": [
        "<a name = Section42></a>\n",
        "### **4.2 Data Information**\n",
        "\n",
        "- In this section we will see the **information about the types of features**."
      ]
    },
    {
      "cell_type": "code",
      "metadata": {
        "colab": {
          "base_uri": "https://localhost:8080/"
        },
        "id": "VW8YR8DOicNg",
        "outputId": "54f7f661-964f-4c6f-af65-ce2f8e5c4cae"
      },
      "source": [
        "data_train.info()\n"
      ],
      "execution_count": 130,
      "outputs": [
        {
          "output_type": "stream",
          "text": [
            "<class 'pandas.core.frame.DataFrame'>\n",
            "Int64Index: 403776 entries, 1 to 33648\n",
            "Data columns (total 17 columns):\n",
            " #   Column   Non-Null Count   Dtype  \n",
            "---  ------   --------------   -----  \n",
            " 0   year     403776 non-null  int64  \n",
            " 1   month    403776 non-null  int64  \n",
            " 2   day      403776 non-null  int64  \n",
            " 3   hour     403776 non-null  int64  \n",
            " 4   PM2.5    395301 non-null  float64\n",
            " 5   PM10     397554 non-null  float64\n",
            " 6   SO2      395000 non-null  float64\n",
            " 7   NO2      391917 non-null  float64\n",
            " 8   CO       383515 non-null  float64\n",
            " 9   O3       390769 non-null  float64\n",
            " 10  TEMP     403512 non-null  float64\n",
            " 11  PRES     403511 non-null  float64\n",
            " 12  DEWP     403507 non-null  float64\n",
            " 13  RAIN     403515 non-null  float64\n",
            " 14  wd       402387 non-null  object \n",
            " 15  WSPM     403538 non-null  float64\n",
            " 16  station  403776 non-null  object \n",
            "dtypes: float64(11), int64(4), object(2)\n",
            "memory usage: 55.5+ MB\n"
          ],
          "name": "stdout"
        }
      ]
    },
    {
      "cell_type": "markdown",
      "metadata": {
        "id": "r0behJ7WzHFy"
      },
      "source": [
        "<a name = Section5></a>\n",
        "\n",
        "---\n",
        "# **5. Data Pre-Processing**\n",
        "---"
      ]
    },
    {
      "cell_type": "markdown",
      "metadata": {
        "id": "_4Hr34Dky1f0"
      },
      "source": [
        "<a name = Section51></a>\n",
        "### **5.1 Pre Profiling Report**\n",
        "\n",
        "- For **quick analysis** pandas profiling is very handy.\n",
        "\n",
        "- Generates profile reports from a pandas DataFrame.\n",
        "\n",
        "- For each column **statistics** are presented in an interactive HTML report."
      ]
    },
    {
      "cell_type": "markdown",
      "metadata": {
        "id": "WiyaudAry1-L",
        "outputId": "91e9ce69-f679-4d1e-f3af-c1490a95ecbb"
      },
      "source": [
        "profile = ProfileReport(df = data_train)\n",
        "profile.to_file('Pre Profiling Report_beijing_train.html')\n",
        "##print('Accomplished!')"
      ]
    },
    {
      "cell_type": "markdown",
      "metadata": {
        "id": "idD3QcKjzbOx"
      },
      "source": [
        "<a name = Section6></a>\n",
        "\n",
        "---\n",
        "# **6. Exploratory Data Analysis**\n",
        "---"
      ]
    },
    {
      "cell_type": "code",
      "metadata": {
        "id": "8n_P090wicNj"
      },
      "source": [
        "data=data_train.drop(columns=['RAIN','wd'])"
      ],
      "execution_count": 131,
      "outputs": []
    },
    {
      "cell_type": "code",
      "metadata": {
        "colab": {
          "base_uri": "https://localhost:8080/"
        },
        "id": "Pmt6KuoLFR07",
        "outputId": "78ee81ad-9e22-4853-d7cc-ab6dbbbed4b4"
      },
      "source": [
        "#since the data is based hourly replacing will prev and later values would bring the data set close to the real world\n",
        "data = data.ffill().bfill()\n",
        "data.info()"
      ],
      "execution_count": 132,
      "outputs": [
        {
          "output_type": "stream",
          "text": [
            "<class 'pandas.core.frame.DataFrame'>\n",
            "Int64Index: 403776 entries, 1 to 33648\n",
            "Data columns (total 15 columns):\n",
            " #   Column   Non-Null Count   Dtype  \n",
            "---  ------   --------------   -----  \n",
            " 0   year     403776 non-null  int64  \n",
            " 1   month    403776 non-null  int64  \n",
            " 2   day      403776 non-null  int64  \n",
            " 3   hour     403776 non-null  int64  \n",
            " 4   PM2.5    403776 non-null  float64\n",
            " 5   PM10     403776 non-null  float64\n",
            " 6   SO2      403776 non-null  float64\n",
            " 7   NO2      403776 non-null  float64\n",
            " 8   CO       403776 non-null  float64\n",
            " 9   O3       403776 non-null  float64\n",
            " 10  TEMP     403776 non-null  float64\n",
            " 11  PRES     403776 non-null  float64\n",
            " 12  DEWP     403776 non-null  float64\n",
            " 13  WSPM     403776 non-null  float64\n",
            " 14  station  403776 non-null  object \n",
            "dtypes: float64(10), int64(4), object(1)\n",
            "memory usage: 49.3+ MB\n"
          ],
          "name": "stdout"
        }
      ]
    },
    {
      "cell_type": "code",
      "metadata": {
        "id": "e6rxWANcicNk"
      },
      "source": [
        "##if all the columns have nan values drop them because there is no useful information we can get \n",
        "#data.dropna(subset=['PM2.5'], how='all',inplace=True)\n",
        "#data.dropna(subset=['PM2.5','PM10','SO2','NO2','CO','O3'], how='all',inplace=True)\n",
        "#data.dropna(subset=['TEMP','PRES','DEWP','WSPM'],how='all',inplace=True)\n",
        "#data[data.isna().any(axis=1)]\n"
      ],
      "execution_count": 120,
      "outputs": []
    },
    {
      "cell_type": "code",
      "metadata": {
        "colab": {
          "base_uri": "https://localhost:8080/",
          "height": 685
        },
        "id": "5-Mrb4BFicOd",
        "outputId": "951ba5f3-66c3-44af-9d84-afcea042a987"
      },
      "source": [
        "display(data.describe())\n",
        "data.info()"
      ],
      "execution_count": 133,
      "outputs": [
        {
          "output_type": "display_data",
          "data": {
            "text/html": [
              "<div>\n",
              "<style scoped>\n",
              "    .dataframe tbody tr th:only-of-type {\n",
              "        vertical-align: middle;\n",
              "    }\n",
              "\n",
              "    .dataframe tbody tr th {\n",
              "        vertical-align: top;\n",
              "    }\n",
              "\n",
              "    .dataframe thead th {\n",
              "        text-align: right;\n",
              "    }\n",
              "</style>\n",
              "<table border=\"1\" class=\"dataframe\">\n",
              "  <thead>\n",
              "    <tr style=\"text-align: right;\">\n",
              "      <th></th>\n",
              "      <th>year</th>\n",
              "      <th>month</th>\n",
              "      <th>day</th>\n",
              "      <th>hour</th>\n",
              "      <th>PM2.5</th>\n",
              "      <th>PM10</th>\n",
              "      <th>SO2</th>\n",
              "      <th>NO2</th>\n",
              "      <th>CO</th>\n",
              "      <th>O3</th>\n",
              "      <th>TEMP</th>\n",
              "      <th>PRES</th>\n",
              "      <th>DEWP</th>\n",
              "      <th>WSPM</th>\n",
              "    </tr>\n",
              "  </thead>\n",
              "  <tbody>\n",
              "    <tr>\n",
              "      <th>count</th>\n",
              "      <td>403776.00000</td>\n",
              "      <td>403776.00000</td>\n",
              "      <td>403776.00000</td>\n",
              "      <td>403776.00000</td>\n",
              "      <td>403776.00000</td>\n",
              "      <td>403776.00000</td>\n",
              "      <td>403776.00000</td>\n",
              "      <td>403776.00000</td>\n",
              "      <td>403776.00000</td>\n",
              "      <td>403776.00000</td>\n",
              "      <td>403776.00000</td>\n",
              "      <td>403776.00000</td>\n",
              "      <td>403776.00000</td>\n",
              "      <td>403776.00000</td>\n",
              "    </tr>\n",
              "    <tr>\n",
              "      <th>mean</th>\n",
              "      <td>2014.56419</td>\n",
              "      <td>6.73538</td>\n",
              "      <td>15.74822</td>\n",
              "      <td>11.50000</td>\n",
              "      <td>79.62776</td>\n",
              "      <td>104.81785</td>\n",
              "      <td>15.84185</td>\n",
              "      <td>50.25823</td>\n",
              "      <td>1224.24987</td>\n",
              "      <td>58.17920</td>\n",
              "      <td>14.08594</td>\n",
              "      <td>1010.28539</td>\n",
              "      <td>3.15328</td>\n",
              "      <td>1.71844</td>\n",
              "    </tr>\n",
              "    <tr>\n",
              "      <th>std</th>\n",
              "      <td>1.09750</td>\n",
              "      <td>3.35648</td>\n",
              "      <td>8.80889</td>\n",
              "      <td>6.92220</td>\n",
              "      <td>79.67553</td>\n",
              "      <td>91.09701</td>\n",
              "      <td>22.39654</td>\n",
              "      <td>34.97975</td>\n",
              "      <td>1133.19065</td>\n",
              "      <td>59.05638</td>\n",
              "      <td>11.30485</td>\n",
              "      <td>10.35644</td>\n",
              "      <td>13.62107</td>\n",
              "      <td>1.23807</td>\n",
              "    </tr>\n",
              "    <tr>\n",
              "      <th>min</th>\n",
              "      <td>2013.00000</td>\n",
              "      <td>1.00000</td>\n",
              "      <td>1.00000</td>\n",
              "      <td>0.00000</td>\n",
              "      <td>2.00000</td>\n",
              "      <td>2.00000</td>\n",
              "      <td>0.28560</td>\n",
              "      <td>1.02650</td>\n",
              "      <td>100.00000</td>\n",
              "      <td>0.21420</td>\n",
              "      <td>-19.90000</td>\n",
              "      <td>982.40000</td>\n",
              "      <td>-43.40000</td>\n",
              "      <td>0.00000</td>\n",
              "    </tr>\n",
              "    <tr>\n",
              "      <th>25%</th>\n",
              "      <td>2014.00000</td>\n",
              "      <td>4.00000</td>\n",
              "      <td>8.00000</td>\n",
              "      <td>5.75000</td>\n",
              "      <td>21.00000</td>\n",
              "      <td>36.00000</td>\n",
              "      <td>2.00000</td>\n",
              "      <td>23.00000</td>\n",
              "      <td>500.00000</td>\n",
              "      <td>10.00000</td>\n",
              "      <td>4.00000</td>\n",
              "      <td>1002.00000</td>\n",
              "      <td>-8.00000</td>\n",
              "      <td>0.90000</td>\n",
              "    </tr>\n",
              "    <tr>\n",
              "      <th>50%</th>\n",
              "      <td>2015.00000</td>\n",
              "      <td>7.00000</td>\n",
              "      <td>16.00000</td>\n",
              "      <td>11.50000</td>\n",
              "      <td>55.00000</td>\n",
              "      <td>83.00000</td>\n",
              "      <td>7.00000</td>\n",
              "      <td>43.00000</td>\n",
              "      <td>900.00000</td>\n",
              "      <td>45.00000</td>\n",
              "      <td>15.40000</td>\n",
              "      <td>1009.80000</td>\n",
              "      <td>4.20000</td>\n",
              "      <td>1.40000</td>\n",
              "    </tr>\n",
              "    <tr>\n",
              "      <th>75%</th>\n",
              "      <td>2016.00000</td>\n",
              "      <td>10.00000</td>\n",
              "      <td>23.00000</td>\n",
              "      <td>17.25000</td>\n",
              "      <td>111.00000</td>\n",
              "      <td>146.00000</td>\n",
              "      <td>19.00000</td>\n",
              "      <td>71.00000</td>\n",
              "      <td>1500.00000</td>\n",
              "      <td>83.00000</td>\n",
              "      <td>23.60000</td>\n",
              "      <td>1018.30000</td>\n",
              "      <td>15.50000</td>\n",
              "      <td>2.20000</td>\n",
              "    </tr>\n",
              "    <tr>\n",
              "      <th>max</th>\n",
              "      <td>2016.00000</td>\n",
              "      <td>12.00000</td>\n",
              "      <td>31.00000</td>\n",
              "      <td>23.00000</td>\n",
              "      <td>999.00000</td>\n",
              "      <td>999.00000</td>\n",
              "      <td>500.00000</td>\n",
              "      <td>290.00000</td>\n",
              "      <td>10000.00000</td>\n",
              "      <td>1071.00000</td>\n",
              "      <td>41.60000</td>\n",
              "      <td>1042.80000</td>\n",
              "      <td>29.10000</td>\n",
              "      <td>13.20000</td>\n",
              "    </tr>\n",
              "  </tbody>\n",
              "</table>\n",
              "</div>"
            ],
            "text/plain": [
              "              year        month          day         hour        PM2.5  \\\n",
              "count 403776.00000 403776.00000 403776.00000 403776.00000 403776.00000   \n",
              "mean    2014.56419      6.73538     15.74822     11.50000     79.62776   \n",
              "std        1.09750      3.35648      8.80889      6.92220     79.67553   \n",
              "min     2013.00000      1.00000      1.00000      0.00000      2.00000   \n",
              "25%     2014.00000      4.00000      8.00000      5.75000     21.00000   \n",
              "50%     2015.00000      7.00000     16.00000     11.50000     55.00000   \n",
              "75%     2016.00000     10.00000     23.00000     17.25000    111.00000   \n",
              "max     2016.00000     12.00000     31.00000     23.00000    999.00000   \n",
              "\n",
              "              PM10          SO2          NO2           CO           O3  \\\n",
              "count 403776.00000 403776.00000 403776.00000 403776.00000 403776.00000   \n",
              "mean     104.81785     15.84185     50.25823   1224.24987     58.17920   \n",
              "std       91.09701     22.39654     34.97975   1133.19065     59.05638   \n",
              "min        2.00000      0.28560      1.02650    100.00000      0.21420   \n",
              "25%       36.00000      2.00000     23.00000    500.00000     10.00000   \n",
              "50%       83.00000      7.00000     43.00000    900.00000     45.00000   \n",
              "75%      146.00000     19.00000     71.00000   1500.00000     83.00000   \n",
              "max      999.00000    500.00000    290.00000  10000.00000   1071.00000   \n",
              "\n",
              "              TEMP         PRES         DEWP         WSPM  \n",
              "count 403776.00000 403776.00000 403776.00000 403776.00000  \n",
              "mean      14.08594   1010.28539      3.15328      1.71844  \n",
              "std       11.30485     10.35644     13.62107      1.23807  \n",
              "min      -19.90000    982.40000    -43.40000      0.00000  \n",
              "25%        4.00000   1002.00000     -8.00000      0.90000  \n",
              "50%       15.40000   1009.80000      4.20000      1.40000  \n",
              "75%       23.60000   1018.30000     15.50000      2.20000  \n",
              "max       41.60000   1042.80000     29.10000     13.20000  "
            ]
          },
          "metadata": {
            "tags": []
          }
        },
        {
          "output_type": "stream",
          "text": [
            "<class 'pandas.core.frame.DataFrame'>\n",
            "Int64Index: 403776 entries, 1 to 33648\n",
            "Data columns (total 15 columns):\n",
            " #   Column   Non-Null Count   Dtype  \n",
            "---  ------   --------------   -----  \n",
            " 0   year     403776 non-null  int64  \n",
            " 1   month    403776 non-null  int64  \n",
            " 2   day      403776 non-null  int64  \n",
            " 3   hour     403776 non-null  int64  \n",
            " 4   PM2.5    403776 non-null  float64\n",
            " 5   PM10     403776 non-null  float64\n",
            " 6   SO2      403776 non-null  float64\n",
            " 7   NO2      403776 non-null  float64\n",
            " 8   CO       403776 non-null  float64\n",
            " 9   O3       403776 non-null  float64\n",
            " 10  TEMP     403776 non-null  float64\n",
            " 11  PRES     403776 non-null  float64\n",
            " 12  DEWP     403776 non-null  float64\n",
            " 13  WSPM     403776 non-null  float64\n",
            " 14  station  403776 non-null  object \n",
            "dtypes: float64(10), int64(4), object(1)\n",
            "memory usage: 49.3+ MB\n"
          ],
          "name": "stdout"
        }
      ]
    },
    {
      "cell_type": "code",
      "metadata": {
        "id": "B51VrjPPicOh",
        "colab": {
          "base_uri": "https://localhost:8080/",
          "height": 80
        },
        "outputId": "280e5093-e610-43e8-852f-d8a65b2800cf"
      },
      "source": [
        "data[data.isna().any(axis=1)]\n",
        "\n"
      ],
      "execution_count": 134,
      "outputs": [
        {
          "output_type": "execute_result",
          "data": {
            "text/html": [
              "<div>\n",
              "<style scoped>\n",
              "    .dataframe tbody tr th:only-of-type {\n",
              "        vertical-align: middle;\n",
              "    }\n",
              "\n",
              "    .dataframe tbody tr th {\n",
              "        vertical-align: top;\n",
              "    }\n",
              "\n",
              "    .dataframe thead th {\n",
              "        text-align: right;\n",
              "    }\n",
              "</style>\n",
              "<table border=\"1\" class=\"dataframe\">\n",
              "  <thead>\n",
              "    <tr style=\"text-align: right;\">\n",
              "      <th></th>\n",
              "      <th>year</th>\n",
              "      <th>month</th>\n",
              "      <th>day</th>\n",
              "      <th>hour</th>\n",
              "      <th>PM2.5</th>\n",
              "      <th>PM10</th>\n",
              "      <th>SO2</th>\n",
              "      <th>NO2</th>\n",
              "      <th>CO</th>\n",
              "      <th>O3</th>\n",
              "      <th>TEMP</th>\n",
              "      <th>PRES</th>\n",
              "      <th>DEWP</th>\n",
              "      <th>WSPM</th>\n",
              "      <th>station</th>\n",
              "    </tr>\n",
              "    <tr>\n",
              "      <th>REF_NO</th>\n",
              "      <th></th>\n",
              "      <th></th>\n",
              "      <th></th>\n",
              "      <th></th>\n",
              "      <th></th>\n",
              "      <th></th>\n",
              "      <th></th>\n",
              "      <th></th>\n",
              "      <th></th>\n",
              "      <th></th>\n",
              "      <th></th>\n",
              "      <th></th>\n",
              "      <th></th>\n",
              "      <th></th>\n",
              "      <th></th>\n",
              "    </tr>\n",
              "  </thead>\n",
              "  <tbody>\n",
              "  </tbody>\n",
              "</table>\n",
              "</div>"
            ],
            "text/plain": [
              "Empty DataFrame\n",
              "Columns: [year, month, day, hour, PM2.5, PM10, SO2, NO2, CO, O3, TEMP, PRES, DEWP, WSPM, station]\n",
              "Index: []"
            ]
          },
          "metadata": {
            "tags": []
          },
          "execution_count": 134
        }
      ]
    },
    {
      "cell_type": "code",
      "metadata": {
        "id": "wE4ErSkxicOk",
        "colab": {
          "base_uri": "https://localhost:8080/",
          "height": 80
        },
        "outputId": "c4077754-1d2b-4878-8c46-6d079dc9b287"
      },
      "source": [
        "# #Treating outliers with monthly mean amputation\n",
        "\n",
        "data['PM2.5']=data['PM2.5'].apply(lambda  x:0 if x>400 else x)\n",
        "data['PM2.5'] = data['PM2.5'].replace(0, np.nan)\n",
        "data['PM2.5']=data['PM2.5'].fillna(data.groupby(['station','year','month'])['PM2.5'].transform('mean'))\n",
        "#data['PM2.5']=data['PM2.5'].fillna(data.groupby(['station','year','month','day','hour'])['PM2.5'].transform('max'))\n",
        "#data['PM2.5']=data['PM2.5'].ffill().bfill()\n",
        "\n",
        "#ffill bfill is not giving a good nd curve for cube root so going for transorm\n",
        "\n",
        "data[data.isna().any(axis=1)]\n",
        "\n"
      ],
      "execution_count": 135,
      "outputs": [
        {
          "output_type": "execute_result",
          "data": {
            "text/html": [
              "<div>\n",
              "<style scoped>\n",
              "    .dataframe tbody tr th:only-of-type {\n",
              "        vertical-align: middle;\n",
              "    }\n",
              "\n",
              "    .dataframe tbody tr th {\n",
              "        vertical-align: top;\n",
              "    }\n",
              "\n",
              "    .dataframe thead th {\n",
              "        text-align: right;\n",
              "    }\n",
              "</style>\n",
              "<table border=\"1\" class=\"dataframe\">\n",
              "  <thead>\n",
              "    <tr style=\"text-align: right;\">\n",
              "      <th></th>\n",
              "      <th>year</th>\n",
              "      <th>month</th>\n",
              "      <th>day</th>\n",
              "      <th>hour</th>\n",
              "      <th>PM2.5</th>\n",
              "      <th>PM10</th>\n",
              "      <th>SO2</th>\n",
              "      <th>NO2</th>\n",
              "      <th>CO</th>\n",
              "      <th>O3</th>\n",
              "      <th>TEMP</th>\n",
              "      <th>PRES</th>\n",
              "      <th>DEWP</th>\n",
              "      <th>WSPM</th>\n",
              "      <th>station</th>\n",
              "    </tr>\n",
              "    <tr>\n",
              "      <th>REF_NO</th>\n",
              "      <th></th>\n",
              "      <th></th>\n",
              "      <th></th>\n",
              "      <th></th>\n",
              "      <th></th>\n",
              "      <th></th>\n",
              "      <th></th>\n",
              "      <th></th>\n",
              "      <th></th>\n",
              "      <th></th>\n",
              "      <th></th>\n",
              "      <th></th>\n",
              "      <th></th>\n",
              "      <th></th>\n",
              "      <th></th>\n",
              "    </tr>\n",
              "  </thead>\n",
              "  <tbody>\n",
              "  </tbody>\n",
              "</table>\n",
              "</div>"
            ],
            "text/plain": [
              "Empty DataFrame\n",
              "Columns: [year, month, day, hour, PM2.5, PM10, SO2, NO2, CO, O3, TEMP, PRES, DEWP, WSPM, station]\n",
              "Index: []"
            ]
          },
          "metadata": {
            "tags": []
          },
          "execution_count": 135
        }
      ]
    },
    {
      "cell_type": "code",
      "metadata": {
        "id": "zU24XV0-YAjz"
      },
      "source": [
        "data['PM10']=data['PM10'].apply(lambda  x:0 if x>400 else x)\n",
        "data['PM10'] = data['PM10'].replace(0, np.nan)\n",
        "data['PM10']=data['PM10'].fillna(data.groupby(['station','year','month'])['PM2.5'].transform('mean'))"
      ],
      "execution_count": 136,
      "outputs": []
    },
    {
      "cell_type": "code",
      "metadata": {
        "id": "Py362lKRYnj9"
      },
      "source": [
        ""
      ],
      "execution_count": null,
      "outputs": []
    },
    {
      "cell_type": "code",
      "metadata": {
        "id": "YpETevzW7w43",
        "colab": {
          "base_uri": "https://localhost:8080/"
        },
        "outputId": "12ad23f9-97d8-40f9-a843-dcb1e34b7b61"
      },
      "source": [
        "data.describe()\n",
        "data.info()"
      ],
      "execution_count": 137,
      "outputs": [
        {
          "output_type": "stream",
          "text": [
            "<class 'pandas.core.frame.DataFrame'>\n",
            "Int64Index: 403776 entries, 1 to 33648\n",
            "Data columns (total 15 columns):\n",
            " #   Column   Non-Null Count   Dtype  \n",
            "---  ------   --------------   -----  \n",
            " 0   year     403776 non-null  int64  \n",
            " 1   month    403776 non-null  int64  \n",
            " 2   day      403776 non-null  int64  \n",
            " 3   hour     403776 non-null  int64  \n",
            " 4   PM2.5    403776 non-null  float64\n",
            " 5   PM10     403776 non-null  float64\n",
            " 6   SO2      403776 non-null  float64\n",
            " 7   NO2      403776 non-null  float64\n",
            " 8   CO       403776 non-null  float64\n",
            " 9   O3       403776 non-null  float64\n",
            " 10  TEMP     403776 non-null  float64\n",
            " 11  PRES     403776 non-null  float64\n",
            " 12  DEWP     403776 non-null  float64\n",
            " 13  WSPM     403776 non-null  float64\n",
            " 14  station  403776 non-null  object \n",
            "dtypes: float64(10), int64(4), object(1)\n",
            "memory usage: 49.3+ MB\n"
          ],
          "name": "stdout"
        }
      ]
    },
    {
      "cell_type": "code",
      "metadata": {
        "id": "v4SesMq2icOl",
        "colab": {
          "base_uri": "https://localhost:8080/",
          "height": 289
        },
        "outputId": "d09a3664-0f8f-4e66-aadb-e3f4aac22be2"
      },
      "source": [
        "sns.distplot(np.cbrt(data['PM2.5']),bins=50,color='red')\n",
        "\n",
        "plt.savefig('Graph with cube root of 2.5<250 tranform mean.png')"
      ],
      "execution_count": 138,
      "outputs": [
        {
          "output_type": "display_data",
          "data": {
            "image/png": "[encoded data removed]",
            "text/plain": [
              "<Figure size 432x288 with 1 Axes>"
            ]
          },
          "metadata": {
            "tags": [],
            "needs_background": "light"
          }
        }
      ]
    },
    {
      "cell_type": "code",
      "metadata": {
        "id": "OXQx03L8icOl",
        "colab": {
          "base_uri": "https://localhost:8080/",
          "height": 285
        },
        "outputId": "85efdacc-9cdc-48a7-b6f9-7a59b56bf78c"
      },
      "source": [
        "sns.histplot(data['PM2.5'],bins=50,color='red')\n",
        "plt.savefig('distribution plot less than 250 transform mean.png')"
      ],
      "execution_count": 139,
      "outputs": [
        {
          "output_type": "display_data",
          "data": {
            "image/png": "[encoded data removed]",
            "text/plain": [
              "<Figure size 432x288 with 1 Axes>"
            ]
          },
          "metadata": {
            "tags": [],
            "needs_background": "light"
          }
        }
      ]
    },
    {
      "cell_type": "code",
      "metadata": {
        "id": "WYq31EXTicOm",
        "colab": {
          "base_uri": "https://localhost:8080/",
          "height": 480
        },
        "outputId": "c914c2e7-1085-432f-8e38-7e0e07d4ba86"
      },
      "source": [
        "data.corr()\n"
      ],
      "execution_count": 140,
      "outputs": [
        {
          "output_type": "execute_result",
          "data": {
            "text/html": [
              "<div>\n",
              "<style scoped>\n",
              "    .dataframe tbody tr th:only-of-type {\n",
              "        vertical-align: middle;\n",
              "    }\n",
              "\n",
              "    .dataframe tbody tr th {\n",
              "        vertical-align: top;\n",
              "    }\n",
              "\n",
              "    .dataframe thead th {\n",
              "        text-align: right;\n",
              "    }\n",
              "</style>\n",
              "<table border=\"1\" class=\"dataframe\">\n",
              "  <thead>\n",
              "    <tr style=\"text-align: right;\">\n",
              "      <th></th>\n",
              "      <th>year</th>\n",
              "      <th>month</th>\n",
              "      <th>day</th>\n",
              "      <th>hour</th>\n",
              "      <th>PM2.5</th>\n",
              "      <th>PM10</th>\n",
              "      <th>SO2</th>\n",
              "      <th>NO2</th>\n",
              "      <th>CO</th>\n",
              "      <th>O3</th>\n",
              "      <th>TEMP</th>\n",
              "      <th>PRES</th>\n",
              "      <th>DEWP</th>\n",
              "      <th>WSPM</th>\n",
              "    </tr>\n",
              "  </thead>\n",
              "  <tbody>\n",
              "    <tr>\n",
              "      <th>year</th>\n",
              "      <td>1.00000</td>\n",
              "      <td>-0.09152</td>\n",
              "      <td>-0.00154</td>\n",
              "      <td>0.00000</td>\n",
              "      <td>-0.05782</td>\n",
              "      <td>-0.06952</td>\n",
              "      <td>-0.19529</td>\n",
              "      <td>-0.07823</td>\n",
              "      <td>-0.02717</td>\n",
              "      <td>0.01176</td>\n",
              "      <td>-0.06344</td>\n",
              "      <td>0.11136</td>\n",
              "      <td>-0.07773</td>\n",
              "      <td>0.07803</td>\n",
              "    </tr>\n",
              "    <tr>\n",
              "      <th>month</th>\n",
              "      <td>-0.09152</td>\n",
              "      <td>1.00000</td>\n",
              "      <td>0.00848</td>\n",
              "      <td>0.00000</td>\n",
              "      <td>0.01400</td>\n",
              "      <td>-0.03152</td>\n",
              "      <td>-0.21789</td>\n",
              "      <td>0.06006</td>\n",
              "      <td>0.08316</td>\n",
              "      <td>-0.13009</td>\n",
              "      <td>0.06572</td>\n",
              "      <td>0.05668</td>\n",
              "      <td>0.21228</td>\n",
              "      <td>-0.13633</td>\n",
              "    </tr>\n",
              "    <tr>\n",
              "      <th>day</th>\n",
              "      <td>-0.00154</td>\n",
              "      <td>0.00848</td>\n",
              "      <td>1.00000</td>\n",
              "      <td>0.00000</td>\n",
              "      <td>0.01640</td>\n",
              "      <td>0.03423</td>\n",
              "      <td>-0.00228</td>\n",
              "      <td>0.02773</td>\n",
              "      <td>0.00452</td>\n",
              "      <td>-0.00538</td>\n",
              "      <td>0.01166</td>\n",
              "      <td>0.02396</td>\n",
              "      <td>0.02534</td>\n",
              "      <td>-0.01751</td>\n",
              "    </tr>\n",
              "    <tr>\n",
              "      <th>hour</th>\n",
              "      <td>0.00000</td>\n",
              "      <td>0.00000</td>\n",
              "      <td>0.00000</td>\n",
              "      <td>1.00000</td>\n",
              "      <td>0.01227</td>\n",
              "      <td>0.05541</td>\n",
              "      <td>0.03029</td>\n",
              "      <td>-0.00329</td>\n",
              "      <td>-0.02981</td>\n",
              "      <td>0.27593</td>\n",
              "      <td>0.14362</td>\n",
              "      <td>-0.03871</td>\n",
              "      <td>-0.01181</td>\n",
              "      <td>0.14229</td>\n",
              "    </tr>\n",
              "    <tr>\n",
              "      <th>PM2.5</th>\n",
              "      <td>-0.05782</td>\n",
              "      <td>0.01400</td>\n",
              "      <td>0.01640</td>\n",
              "      <td>0.01227</td>\n",
              "      <td>1.00000</td>\n",
              "      <td>0.86192</td>\n",
              "      <td>0.45820</td>\n",
              "      <td>0.62246</td>\n",
              "      <td>0.69873</td>\n",
              "      <td>-0.12355</td>\n",
              "      <td>-0.10496</td>\n",
              "      <td>0.00632</td>\n",
              "      <td>0.13787</td>\n",
              "      <td>-0.27214</td>\n",
              "    </tr>\n",
              "    <tr>\n",
              "      <th>PM10</th>\n",
              "      <td>-0.06952</td>\n",
              "      <td>-0.03152</td>\n",
              "      <td>0.03423</td>\n",
              "      <td>0.05541</td>\n",
              "      <td>0.86192</td>\n",
              "      <td>1.00000</td>\n",
              "      <td>0.45139</td>\n",
              "      <td>0.61914</td>\n",
              "      <td>0.60844</td>\n",
              "      <td>-0.08297</td>\n",
              "      <td>-0.06510</td>\n",
              "      <td>-0.03626</td>\n",
              "      <td>0.10031</td>\n",
              "      <td>-0.20414</td>\n",
              "    </tr>\n",
              "    <tr>\n",
              "      <th>SO2</th>\n",
              "      <td>-0.19529</td>\n",
              "      <td>-0.21789</td>\n",
              "      <td>-0.00228</td>\n",
              "      <td>0.03029</td>\n",
              "      <td>0.45820</td>\n",
              "      <td>0.45139</td>\n",
              "      <td>1.00000</td>\n",
              "      <td>0.47778</td>\n",
              "      <td>0.53177</td>\n",
              "      <td>-0.15908</td>\n",
              "      <td>-0.32632</td>\n",
              "      <td>0.22769</td>\n",
              "      <td>-0.27492</td>\n",
              "      <td>-0.10027</td>\n",
              "    </tr>\n",
              "    <tr>\n",
              "      <th>NO2</th>\n",
              "      <td>-0.07823</td>\n",
              "      <td>0.06006</td>\n",
              "      <td>0.02773</td>\n",
              "      <td>-0.00329</td>\n",
              "      <td>0.62246</td>\n",
              "      <td>0.61914</td>\n",
              "      <td>0.47778</td>\n",
              "      <td>1.00000</td>\n",
              "      <td>0.67485</td>\n",
              "      <td>-0.45181</td>\n",
              "      <td>-0.27580</td>\n",
              "      <td>0.17687</td>\n",
              "      <td>-0.03620</td>\n",
              "      <td>-0.38734</td>\n",
              "    </tr>\n",
              "    <tr>\n",
              "      <th>CO</th>\n",
              "      <td>-0.02717</td>\n",
              "      <td>0.08316</td>\n",
              "      <td>0.00452</td>\n",
              "      <td>-0.02981</td>\n",
              "      <td>0.69873</td>\n",
              "      <td>0.60844</td>\n",
              "      <td>0.53177</td>\n",
              "      <td>0.67485</td>\n",
              "      <td>1.00000</td>\n",
              "      <td>-0.29813</td>\n",
              "      <td>-0.33571</td>\n",
              "      <td>0.19841</td>\n",
              "      <td>-0.07354</td>\n",
              "      <td>-0.28334</td>\n",
              "    </tr>\n",
              "    <tr>\n",
              "      <th>O3</th>\n",
              "      <td>0.01176</td>\n",
              "      <td>-0.13009</td>\n",
              "      <td>-0.00538</td>\n",
              "      <td>0.27593</td>\n",
              "      <td>-0.12355</td>\n",
              "      <td>-0.08297</td>\n",
              "      <td>-0.15908</td>\n",
              "      <td>-0.45181</td>\n",
              "      <td>-0.29813</td>\n",
              "      <td>1.00000</td>\n",
              "      <td>0.58865</td>\n",
              "      <td>-0.44619</td>\n",
              "      <td>0.31337</td>\n",
              "      <td>0.28833</td>\n",
              "    </tr>\n",
              "    <tr>\n",
              "      <th>TEMP</th>\n",
              "      <td>-0.06344</td>\n",
              "      <td>0.06572</td>\n",
              "      <td>0.01166</td>\n",
              "      <td>0.14362</td>\n",
              "      <td>-0.10496</td>\n",
              "      <td>-0.06510</td>\n",
              "      <td>-0.32632</td>\n",
              "      <td>-0.27580</td>\n",
              "      <td>-0.33571</td>\n",
              "      <td>0.58865</td>\n",
              "      <td>1.00000</td>\n",
              "      <td>-0.80747</td>\n",
              "      <td>0.81509</td>\n",
              "      <td>0.04157</td>\n",
              "    </tr>\n",
              "    <tr>\n",
              "      <th>PRES</th>\n",
              "      <td>0.11136</td>\n",
              "      <td>0.05668</td>\n",
              "      <td>0.02396</td>\n",
              "      <td>-0.03871</td>\n",
              "      <td>0.00632</td>\n",
              "      <td>-0.03626</td>\n",
              "      <td>0.22769</td>\n",
              "      <td>0.17687</td>\n",
              "      <td>0.19841</td>\n",
              "      <td>-0.44619</td>\n",
              "      <td>-0.80747</td>\n",
              "      <td>1.00000</td>\n",
              "      <td>-0.74154</td>\n",
              "      <td>0.05960</td>\n",
              "    </tr>\n",
              "    <tr>\n",
              "      <th>DEWP</th>\n",
              "      <td>-0.07773</td>\n",
              "      <td>0.21228</td>\n",
              "      <td>0.02534</td>\n",
              "      <td>-0.01181</td>\n",
              "      <td>0.13787</td>\n",
              "      <td>0.10031</td>\n",
              "      <td>-0.27492</td>\n",
              "      <td>-0.03620</td>\n",
              "      <td>-0.07354</td>\n",
              "      <td>0.31337</td>\n",
              "      <td>0.81509</td>\n",
              "      <td>-0.74154</td>\n",
              "      <td>1.00000</td>\n",
              "      <td>-0.29444</td>\n",
              "    </tr>\n",
              "    <tr>\n",
              "      <th>WSPM</th>\n",
              "      <td>0.07803</td>\n",
              "      <td>-0.13633</td>\n",
              "      <td>-0.01751</td>\n",
              "      <td>0.14229</td>\n",
              "      <td>-0.27214</td>\n",
              "      <td>-0.20414</td>\n",
              "      <td>-0.10027</td>\n",
              "      <td>-0.38734</td>\n",
              "      <td>-0.28334</td>\n",
              "      <td>0.28833</td>\n",
              "      <td>0.04157</td>\n",
              "      <td>0.05960</td>\n",
              "      <td>-0.29444</td>\n",
              "      <td>1.00000</td>\n",
              "    </tr>\n",
              "  </tbody>\n",
              "</table>\n",
              "</div>"
            ],
            "text/plain": [
              "          year    month      day     hour    PM2.5     PM10      SO2      NO2  \\\n",
              "year   1.00000 -0.09152 -0.00154  0.00000 -0.05782 -0.06952 -0.19529 -0.07823   \n",
              "month -0.09152  1.00000  0.00848  0.00000  0.01400 -0.03152 -0.21789  0.06006   \n",
              "day   -0.00154  0.00848  1.00000  0.00000  0.01640  0.03423 -0.00228  0.02773   \n",
              "hour   0.00000  0.00000  0.00000  1.00000  0.01227  0.05541  0.03029 -0.00329   \n",
              "PM2.5 -0.05782  0.01400  0.01640  0.01227  1.00000  0.86192  0.45820  0.62246   \n",
              "PM10  -0.06952 -0.03152  0.03423  0.05541  0.86192  1.00000  0.45139  0.61914   \n",
              "SO2   -0.19529 -0.21789 -0.00228  0.03029  0.45820  0.45139  1.00000  0.47778   \n",
              "NO2   -0.07823  0.06006  0.02773 -0.00329  0.62246  0.61914  0.47778  1.00000   \n",
              "CO    -0.02717  0.08316  0.00452 -0.02981  0.69873  0.60844  0.53177  0.67485   \n",
              "O3     0.01176 -0.13009 -0.00538  0.27593 -0.12355 -0.08297 -0.15908 -0.45181   \n",
              "TEMP  -0.06344  0.06572  0.01166  0.14362 -0.10496 -0.06510 -0.32632 -0.27580   \n",
              "PRES   0.11136  0.05668  0.02396 -0.03871  0.00632 -0.03626  0.22769  0.17687   \n",
              "DEWP  -0.07773  0.21228  0.02534 -0.01181  0.13787  0.10031 -0.27492 -0.03620   \n",
              "WSPM   0.07803 -0.13633 -0.01751  0.14229 -0.27214 -0.20414 -0.10027 -0.38734   \n",
              "\n",
              "            CO       O3     TEMP     PRES     DEWP     WSPM  \n",
              "year  -0.02717  0.01176 -0.06344  0.11136 -0.07773  0.07803  \n",
              "month  0.08316 -0.13009  0.06572  0.05668  0.21228 -0.13633  \n",
              "day    0.00452 -0.00538  0.01166  0.02396  0.02534 -0.01751  \n",
              "hour  -0.02981  0.27593  0.14362 -0.03871 -0.01181  0.14229  \n",
              "PM2.5  0.69873 -0.12355 -0.10496  0.00632  0.13787 -0.27214  \n",
              "PM10   0.60844 -0.08297 -0.06510 -0.03626  0.10031 -0.20414  \n",
              "SO2    0.53177 -0.15908 -0.32632  0.22769 -0.27492 -0.10027  \n",
              "NO2    0.67485 -0.45181 -0.27580  0.17687 -0.03620 -0.38734  \n",
              "CO     1.00000 -0.29813 -0.33571  0.19841 -0.07354 -0.28334  \n",
              "O3    -0.29813  1.00000  0.58865 -0.44619  0.31337  0.28833  \n",
              "TEMP  -0.33571  0.58865  1.00000 -0.80747  0.81509  0.04157  \n",
              "PRES   0.19841 -0.44619 -0.80747  1.00000 -0.74154  0.05960  \n",
              "DEWP  -0.07354  0.31337  0.81509 -0.74154  1.00000 -0.29444  \n",
              "WSPM  -0.28334  0.28833  0.04157  0.05960 -0.29444  1.00000  "
            ]
          },
          "metadata": {
            "tags": []
          },
          "execution_count": 140
        }
      ]
    },
    {
      "cell_type": "code",
      "metadata": {
        "id": "xKxF87BDZk9d"
      },
      "source": [
        "data.drop(columns=['station','year','month','day','hour','O3','TEMP','PRES','WSPM','DEWP'],inplace=True)"
      ],
      "execution_count": 141,
      "outputs": []
    },
    {
      "cell_type": "code",
      "metadata": {
        "id": "fwDg66i_icOm",
        "colab": {
          "base_uri": "https://localhost:8080/",
          "height": 598
        },
        "outputId": "50a175da-bf59-4760-9efe-82ef46ae865a"
      },
      "source": [
        "corr= data.iloc[ :,: ].corr()\n",
        "top_features =corr.index\n",
        "plt.figure(figsize=(10,10))\n",
        "sns.heatmap(data[top_features].corr(), annot=True)\n",
        "plt.savefig('corr without cbrt of y.png')"
      ],
      "execution_count": 142,
      "outputs": [
        {
          "output_type": "display_data",
          "data": {
            "image/png": "[encoded data removed]",
            "text/plain": [
              "<Figure size 720x720 with 2 Axes>"
            ]
          },
          "metadata": {
            "tags": [],
            "needs_background": "light"
          }
        }
      ]
    },
    {
      "cell_type": "code",
      "metadata": {
        "id": "IziiGclAicOn",
        "colab": {
          "base_uri": "https://localhost:8080/",
          "height": 410
        },
        "outputId": "b234f725-fbb8-432b-b65a-bc0ec594927b"
      },
      "source": [
        "y_cbrt=np.cbrt(data['PM2.5'])\n",
        "\n",
        "\n",
        "plt.figure(figsize= (15,6))\n",
        "plt.subplot(1,2,1)\n",
        "y_cbrt.hist()\n",
        "    \n",
        "plt.subplot(1,2,2)\n",
        "stats.probplot(y_cbrt, dist ='norm', plot=plt)\n",
        "plt.show()\n"
      ],
      "execution_count": 146,
      "outputs": [
        {
          "output_type": "display_data",
          "data": {
            "image/png": "[encoded data removed]",
            "text/plain": [
              "<Figure size 1080x432 with 2 Axes>"
            ]
          },
          "metadata": {
            "tags": [],
            "needs_background": "light"
          }
        }
      ]
    },
    {
      "cell_type": "code",
      "metadata": {
        "id": "MdUL0K98icP6",
        "colab": {
          "base_uri": "https://localhost:8080/",
          "height": 410
        },
        "outputId": "dc5fa9ed-f597-43db-ca6c-bb1eaaf88e7e"
      },
      "source": [
        "y=data['PM2.5']\n",
        "plt.figure(figsize= (15,6))\n",
        "plt.subplot(1,2,1)\n",
        "y.hist()\n",
        "    \n",
        "plt.subplot(1,2,2)\n",
        "stats.probplot(y, dist ='norm', plot=plt)\n",
        "plt.show()\n",
        "    "
      ],
      "execution_count": 145,
      "outputs": [
        {
          "output_type": "display_data",
          "data": {
            "image/png": "[encoded data removed]",
            "text/plain": [
              "<Figure size 1080x432 with 2 Axes>"
            ]
          },
          "metadata": {
            "tags": [],
            "needs_background": "light"
          }
        }
      ]
    },
    {
      "cell_type": "markdown",
      "metadata": {
        "id": "aBmgMV3ricP7"
      },
      "source": [
        "corr= data.iloc[ :,: ].corr()\n",
        "top_features =corr.index\n",
        "plt.figure(figsize=(10,10))\n",
        "sns.heatmap(data[top_features].corr(), annot=True)\n",
        "plt.savefig('corr wit log y.png')"
      ]
    },
    {
      "cell_type": "code",
      "metadata": {
        "id": "0kAkDM82icP7",
        "colab": {
          "base_uri": "https://localhost:8080/",
          "height": 306
        },
        "outputId": "2aafbf55-6e0b-415b-d2bc-f6488f517652"
      },
      "source": [
        "sns.distplot(y_cbrt, bins = 50, color = 'red')"
      ],
      "execution_count": 147,
      "outputs": [
        {
          "output_type": "execute_result",
          "data": {
            "text/plain": [
              "<matplotlib.axes._subplots.AxesSubplot at 0x7f1cd2a3cad0>"
            ]
          },
          "metadata": {
            "tags": []
          },
          "execution_count": 147
        },
        {
          "output_type": "display_data",
          "data": {
            "image/png": "[encoded data removed]",
            "text/plain": [
              "<Figure size 432x288 with 1 Axes>"
            ]
          },
          "metadata": {
            "tags": [],
            "needs_background": "light"
          }
        }
      ]
    },
    {
      "cell_type": "markdown",
      "metadata": {
        "id": "CbUkc30xicP9"
      },
      "source": [
        "<a name = Section6></a>\n",
        "\n",
        "---\n",
        "# **6. Exploratory Data Analysis**\n",
        "---"
      ]
    },
    {
      "cell_type": "markdown",
      "metadata": {
        "scrolled": true,
        "id": "pplBYkHZicP9"
      },
      "source": [
        "pair_plot=sns.pairplot(Data_final)\n",
        "pair_plot.savefig('graphs between beijing data.png')"
      ]
    },
    {
      "cell_type": "markdown",
      "metadata": {
        "id": "ChnolEmvzcQg"
      },
      "source": [
        "Note : To check your profiling please **uncomment** the code and run it"
      ]
    },
    {
      "cell_type": "markdown",
      "metadata": {
        "id": "gbX3__T_sM5U"
      },
      "source": [
        "<a name = Section7></a>\n",
        "\n",
        "---\n",
        "# **7. Post Data Processing**\n",
        "---\n",
        "\n"
      ]
    },
    {
      "cell_type": "markdown",
      "metadata": {
        "id": "NLHnQO0r8vj8"
      },
      "source": [
        "<a name = Section73></a>\n",
        "### **7.1 Data Preparation**\n",
        "\n",
        "- Now we will **split** our **data** into **dependent** and **independent** variables for further development."
      ]
    },
    {
      "cell_type": "code",
      "metadata": {
        "id": "I4_FX6TNrjyg"
      },
      "source": [
        "feature_cols = ['PM10','SO2','NO2','CO']                # create a Python list of feature names\n",
        "X = data[feature_cols]                                     # use the list to select a subset of the original DataFrame-+"
      ],
      "execution_count": 180,
      "outputs": []
    },
    {
      "cell_type": "code",
      "metadata": {
        "colab": {
          "base_uri": "https://localhost:8080/"
        },
        "id": "6X-bzHQPrjyo",
        "outputId": "9f8b383e-3b07-4e15-ef6d-b4b7cc71f67f"
      },
      "source": [
        "y =data['PM2.5']\n",
        "y.head() #didnt transform the target variable "
      ],
      "execution_count": 181,
      "outputs": [
        {
          "output_type": "execute_result",
          "data": {
            "text/plain": [
              "REF_NO\n",
              "1   4.00000\n",
              "2   8.00000\n",
              "3   7.00000\n",
              "4   6.00000\n",
              "5   3.00000\n",
              "Name: PM2.5, dtype: float64"
            ]
          },
          "metadata": {
            "tags": []
          },
          "execution_count": 181
        }
      ]
    },
    {
      "cell_type": "markdown",
      "metadata": {
        "id": "15iDa1gnDXZ8"
      },
      "source": [
        "- Now we will **split** our **data** into **training** and **testing**"
      ]
    },
    {
      "cell_type": "code",
      "metadata": {
        "id": "ZbKi2L8zrjyu"
      },
      "source": [
        "from sklearn.model_selection import train_test_split\n",
        "\n",
        "def split(X,y):\n",
        "    return train_test_split(X, y, test_size=0.20, random_state=1)"
      ],
      "execution_count": 182,
      "outputs": []
    },
    {
      "cell_type": "code",
      "metadata": {
        "colab": {
          "base_uri": "https://localhost:8080/"
        },
        "id": "R5sdRWafrjyx",
        "outputId": "725f5445-a413-4250-8dbe-04fa3f0533cc"
      },
      "source": [
        "X_train, X_test, y_train, y_test=split(X,y)\n",
        "print('Train cases as below')\n",
        "print('X_train shape: ',X_train.shape)\n",
        "print('y_train shape: ',y_train.shape)\n",
        "print('\\nTest cases as below')\n",
        "print('X_test shape: ',X_test.shape)\n",
        "print('y_test shape: ',y_test.shape)\n",
        "\n"
      ],
      "execution_count": 183,
      "outputs": [
        {
          "output_type": "stream",
          "text": [
            "Train cases as below\n",
            "X_train shape:  (323020, 4)\n",
            "y_train shape:  (323020,)\n",
            "\n",
            "Test cases as below\n",
            "X_test shape:  (80756, 4)\n",
            "y_test shape:  (80756,)\n"
          ],
          "name": "stdout"
        }
      ]
    },
    {
      "cell_type": "code",
      "metadata": {
        "id": "9PIkx7v1icQA"
      },
      "source": [
        ""
      ],
      "execution_count": null,
      "outputs": []
    },
    {
      "cell_type": "markdown",
      "metadata": {
        "id": "AL5rAjeoicQA"
      },
      "source": [
        "###**7.2 Data Standardization**"
      ]
    },
    {
      "cell_type": "code",
      "metadata": {
        "id": "LxPOLl-HicQA",
        "colab": {
          "base_uri": "https://localhost:8080/",
          "height": 252
        },
        "outputId": "ae3fc3ca-da14-4754-e8de-f31723a24b87"
      },
      "source": [
        "from sklearn.preprocessing import MinMaxScaler\n",
        "scaler = MinMaxScaler().fit(X_train)\n",
        "X_train = scaler.transform(X_train)\n",
        "X_test=scaler.transform(X_test)\n",
        "display(X_train,X_test)\n"
      ],
      "execution_count": 184,
      "outputs": [
        {
          "output_type": "display_data",
          "data": {
            "text/plain": [
              "array([[0.15326633, 0.00343076, 0.25252662, 0.1010101 ],\n",
              "       [0.21105528, 0.02544333, 0.20407927, 0.17171717],\n",
              "       [0.16582915, 0.0054319 , 0.03797407, 0.02020202],\n",
              "       ...,\n",
              "       [0.89949749, 0.05546048, 0.52244756, 0.25252525],\n",
              "       [0.46984925, 0.01743876, 0.24906609, 0.19191919],\n",
              "       [0.14321608, 0.00343076, 0.06219774, 0.02020202]])"
            ]
          },
          "metadata": {
            "tags": []
          }
        },
        {
          "output_type": "display_data",
          "data": {
            "text/plain": [
              "array([[0.08291457, 0.03544905, 0.19023717, 0.07070707],\n",
              "       [0.68592965, 0.05145819, 0.28713187, 0.50505051],\n",
              "       [0.04271357, 0.01143533, 0.02413197, 0.05050505],\n",
              "       ...,\n",
              "       [0.12311558, 0.02544333, 0.08642142, 0.08080808],\n",
              "       [0.16582915, 0.01143533, 0.18677664, 0.19191919],\n",
              "       [0.51758794, 0.03945133, 0.35980289, 0.29292929]])"
            ]
          },
          "metadata": {
            "tags": []
          }
        }
      ]
    },
    {
      "cell_type": "code",
      "metadata": {
        "id": "EA3HnZsticQB"
      },
      "source": [
        ""
      ],
      "execution_count": null,
      "outputs": []
    },
    {
      "cell_type": "markdown",
      "metadata": {
        "id": "PBz50xP-Ba67"
      },
      "source": [
        "<a name = Section8></a>\n",
        "\n",
        "---\n",
        "# **8. Model Development & Evaluation**\n",
        "---\n",
        "\n",
        "- In this section we will **develop Linear Regression model** \n",
        "\n",
        "- Then we will **analyze the results** obtained and **make our observations**.\n",
        "\n",
        "- For **evaluation purpose** we will **focus** on **MSE**, **MAE** and **RMSE** scores.\n",
        "\n",
        "- We will do **feature selection** and see if the scores improves. \n",
        "\n",
        "- We will also add a new categorical feature **Area** and assign values randomly and see if we can improve the scores."
      ]
    },
    {
      "cell_type": "markdown",
      "metadata": {
        "id": "BVgeKPvXrjy0"
      },
      "source": [
        "### **8.1 Linear regression in scikit-learn**"
      ]
    },
    {
      "cell_type": "markdown",
      "metadata": {
        "id": "fOH0v5x_rjy1"
      },
      "source": [
        "To apply any machine learning algorithm on your dataset, basically there are 4 steps:\n",
        "1. **Load** the `algorithm`\n",
        "\n",
        "2. **Instantiate** and **Fit** the model to the `training` dataset\n",
        "\n",
        "3. **Prediction** on the `test` set\n",
        "\n",
        "4. **Calculating** Root mean square error \n",
        "\n",
        "<br> \n",
        "The code block given below shows how these steps are carried out:<br/>\n",
        "\n",
        "```\n",
        "from sklearn.linear_model import LinearRegression\n",
        "linreg = LinearRegression()\n",
        "linreg.fit(X_train, y_train) \n",
        "RMSE_test = np.sqrt(metrics.mean_squared_error(y_test, y_pred_test))\n",
        "```"
      ]
    },
    {
      "cell_type": "code",
      "metadata": {
        "colab": {
          "base_uri": "https://localhost:8080/"
        },
        "id": "uvhqxzvErjy1",
        "outputId": "6f24ce5d-2b7c-427b-d10a-11d82988b019"
      },
      "source": [
        "from sklearn.linear_model import LinearRegression\n",
        "linreg = LinearRegression()\n",
        "y_trans=np.cbrt(y_train) #applying cube rt transformation for only train data\n",
        "\n",
        "linreg.fit(X_train, y_train) "
      ],
      "execution_count": 185,
      "outputs": [
        {
          "output_type": "execute_result",
          "data": {
            "text/plain": [
              "LinearRegression(copy_X=True, fit_intercept=True, n_jobs=None, normalize=False)"
            ]
          },
          "metadata": {
            "tags": []
          },
          "execution_count": 185
        }
      ]
    },
    {
      "cell_type": "code",
      "metadata": {
        "id": "ng5n_PYCicQC",
        "colab": {
          "base_uri": "https://localhost:8080/",
          "height": 900
        },
        "outputId": "34495922-4346-4ab8-f853-adb6e87bcde0"
      },
      "source": [
        "sns.distplot(y_train,bins=50,color='red')"
      ],
      "execution_count": 186,
      "outputs": [
        {
          "output_type": "execute_result",
          "data": {
            "text/plain": [
              "<matplotlib.axes._subplots.AxesSubplot at 0x7f1cd2867b90>"
            ]
          },
          "metadata": {
            "tags": []
          },
          "execution_count": 186
        },
        {
          "output_type": "display_data",
          "data": {
            "image/png": "[encoded data removed]",
            "text/plain": [
              "<Figure size 1080x1080 with 1 Axes>"
            ]
          },
          "metadata": {
            "tags": []
          }
        }
      ]
    },
    {
      "cell_type": "code",
      "metadata": {
        "id": "5rI4UhFficQD",
        "colab": {
          "base_uri": "https://localhost:8080/",
          "height": 302
        },
        "outputId": "facd292f-1d41-407d-ee2c-3eda8a1b9a4a"
      },
      "source": [
        "sns.distplot(y_trans,bins=50,color='blue')"
      ],
      "execution_count": 155,
      "outputs": [
        {
          "output_type": "execute_result",
          "data": {
            "text/plain": [
              "<matplotlib.axes._subplots.AxesSubplot at 0x7f1cd2c0ffd0>"
            ]
          },
          "metadata": {
            "tags": []
          },
          "execution_count": 155
        },
        {
          "output_type": "display_data",
          "data": {
            "image/png": "[encoded data removed]",
            "text/plain": [
              "<Figure size 432x288 with 1 Axes>"
            ]
          },
          "metadata": {
            "tags": [],
            "needs_background": "light"
          }
        }
      ]
    },
    {
      "cell_type": "code",
      "metadata": {
        "id": "FaqL2m9licQD"
      },
      "source": [
        ""
      ],
      "execution_count": null,
      "outputs": []
    },
    {
      "cell_type": "markdown",
      "metadata": {
        "id": "kPDG-K9Lrjy6"
      },
      "source": [
        "### **8.2 Interpreting Model Coefficients**"
      ]
    },
    {
      "cell_type": "code",
      "metadata": {
        "colab": {
          "base_uri": "https://localhost:8080/"
        },
        "id": "CnxQpsrcrjy7",
        "scrolled": false,
        "outputId": "c11b8fc9-b6e3-4b26-a147-40332843eed4"
      },
      "source": [
        "print('Intercept:',linreg.intercept_)          # print the intercept \n",
        "print('Coefficients:',linreg.coef_)  "
      ],
      "execution_count": 187,
      "outputs": [
        {
          "output_type": "stream",
          "text": [
            "Intercept: -5.7575371088626355\n",
            "Coefficients: [252.5374061   -7.91761572   8.70957193 172.3403976 ]\n"
          ],
          "name": "stdout"
        }
      ]
    },
    {
      "cell_type": "markdown",
      "metadata": {
        "id": "Vsdh3c9Irjy-"
      },
      "source": [
        "Its hard to remember the order of the feature names, we so we are __zipping__ the features to pair the feature names with the coefficients"
      ]
    },
    {
      "cell_type": "code",
      "metadata": {
        "id": "Vhrn1scxrjy-"
      },
      "source": [
        "feature_cols.insert(0,'Intercept')\n",
        "coef = linreg.coef_.tolist()            \n",
        "coef.insert(0, linreg.intercept_)       "
      ],
      "execution_count": 188,
      "outputs": []
    },
    {
      "cell_type": "code",
      "metadata": {
        "colab": {
          "base_uri": "https://localhost:8080/"
        },
        "id": "TNr8Y2OBrjzA",
        "scrolled": true,
        "outputId": "5b524105-1b29-416f-bf70-902deb549dde"
      },
      "source": [
        "eq1 = zip(feature_cols, coef)\n",
        "\n",
        "for c1,c2 in eq1:\n",
        "    print(c1,c2)\n",
        "    "
      ],
      "execution_count": 189,
      "outputs": [
        {
          "output_type": "stream",
          "text": [
            "Intercept -5.7575371088626355\n",
            "PM10 252.53740610156854\n",
            "SO2 -7.917615721777324\n",
            "NO2 8.709571930968323\n",
            "CO 172.34039759762595\n"
          ],
          "name": "stdout"
        }
      ]
    },
    {
      "cell_type": "markdown",
      "metadata": {
        "id": "F0oBNIcPrjzE"
      },
      "source": [
        "### **8.3 Using the Model for Prediction**"
      ]
    },
    {
      "cell_type": "code",
      "metadata": {
        "id": "Wb6-LwhorjzF"
      },
      "source": [
        "y_pred_train = linreg.predict(X_train)  \n",
        "y_predtrain=y_pred_train**3"
      ],
      "execution_count": 190,
      "outputs": []
    },
    {
      "cell_type": "code",
      "metadata": {
        "id": "4YJr-RdArjzH"
      },
      "source": [
        "y_pred_test = linreg.predict(X_test)\n",
        "y_predtest=y_pred_test**3"
      ],
      "execution_count": 191,
      "outputs": []
    },
    {
      "cell_type": "code",
      "metadata": {
        "id": "dPaX95OqicQG",
        "colab": {
          "base_uri": "https://localhost:8080/",
          "height": 883
        },
        "outputId": "2d0dc417-b5bd-4364-a18f-6305f2328721"
      },
      "source": [
        "sns.distplot(y_pred_train,bins=50,color='blue')"
      ],
      "execution_count": 192,
      "outputs": [
        {
          "output_type": "execute_result",
          "data": {
            "text/plain": [
              "<matplotlib.axes._subplots.AxesSubplot at 0x7f1cc1305f90>"
            ]
          },
          "metadata": {
            "tags": []
          },
          "execution_count": 192
        },
        {
          "output_type": "display_data",
          "data": {
            "image/png": "[encoded data removed]",
            "text/plain": [
              "<Figure size 1080x1080 with 1 Axes>"
            ]
          },
          "metadata": {
            "tags": []
          }
        }
      ]
    },
    {
      "cell_type": "code",
      "metadata": {
        "id": "tWtNLnXYicQG",
        "colab": {
          "base_uri": "https://localhost:8080/",
          "height": 900
        },
        "outputId": "edd58fda-4a59-447c-9589-38b5d96db4df"
      },
      "source": [
        "sns.distplot(y_test,bins=50,color='blue')"
      ],
      "execution_count": 193,
      "outputs": [
        {
          "output_type": "execute_result",
          "data": {
            "text/plain": [
              "<matplotlib.axes._subplots.AxesSubplot at 0x7f1cbe868410>"
            ]
          },
          "metadata": {
            "tags": []
          },
          "execution_count": 193
        },
        {
          "output_type": "display_data",
          "data": {
            "image/png": "[encoded data removed]",
            "text/plain": [
              "<Figure size 1080x1080 with 1 Axes>"
            ]
          },
          "metadata": {
            "tags": []
          }
        }
      ]
    },
    {
      "cell_type": "markdown",
      "metadata": {
        "id": "PPz1UFZGrjzK"
      },
      "source": [
        "Let's Plot and see how our model is predicting with the test data"
      ]
    },
    {
      "cell_type": "code",
      "metadata": {
        "id": "y3N48V7DicQH",
        "colab": {
          "base_uri": "https://localhost:8080/",
          "height": 883
        },
        "outputId": "a5066d29-ea41-404b-e29e-7c6c978a7136"
      },
      "source": [
        "sns.distplot(y_pred_test,bins=50,color='blue')"
      ],
      "execution_count": 194,
      "outputs": [
        {
          "output_type": "execute_result",
          "data": {
            "text/plain": [
              "<matplotlib.axes._subplots.AxesSubplot at 0x7f1cc3754d50>"
            ]
          },
          "metadata": {
            "tags": []
          },
          "execution_count": 194
        },
        {
          "output_type": "display_data",
          "data": {
            "image/png": "[encoded data removed]",
            "text/plain": [
              "<Figure size 1080x1080 with 1 Axes>"
            ]
          },
          "metadata": {
            "tags": []
          }
        }
      ]
    },
    {
      "cell_type": "code",
      "metadata": {
        "colab": {
          "base_uri": "https://localhost:8080/",
          "height": 900
        },
        "id": "utVrKpx9rjzK",
        "outputId": "672317ce-c00b-44e7-f8c9-f199ea6deedb"
      },
      "source": [
        "sns.set(rc={'figure.figsize':(15, 15)})\n",
        "\n",
        "\n",
        "sns.regplot(y_test,y_pred_test)\n",
        "plt.xlabel('Actual Values')\n",
        "plt.ylabel('Predicted Values')\n"
      ],
      "execution_count": 195,
      "outputs": [
        {
          "output_type": "execute_result",
          "data": {
            "text/plain": [
              "Text(0, 0.5, 'Predicted Values')"
            ]
          },
          "metadata": {
            "tags": []
          },
          "execution_count": 195
        },
        {
          "output_type": "display_data",
          "data": {
            "image/png": "[encoded data removed]",
            "text/plain": [
              "<Figure size 1080x1080 with 1 Axes>"
            ]
          },
          "metadata": {
            "tags": []
          }
        }
      ]
    },
    {
      "cell_type": "code",
      "metadata": {
        "id": "GYqz569picQI"
      },
      "source": [
        ""
      ],
      "execution_count": null,
      "outputs": []
    },
    {
      "cell_type": "code",
      "metadata": {
        "id": "pWg1z8T4icQI",
        "colab": {
          "base_uri": "https://localhost:8080/",
          "height": 911
        },
        "outputId": "4be4bb79-cf88-4e59-c3be-afe98061f0b9"
      },
      "source": [
        "error=y_predtest-y_test\n",
        "sns.distplot(error, bins = 50, color = 'red')"
      ],
      "execution_count": 196,
      "outputs": [
        {
          "output_type": "execute_result",
          "data": {
            "text/plain": [
              "<matplotlib.axes._subplots.AxesSubplot at 0x7f1cbdd82d10>"
            ]
          },
          "metadata": {
            "tags": []
          },
          "execution_count": 196
        },
        {
          "output_type": "display_data",
          "data": {
            "image/png": "[encoded data removed]",
            "text/plain": [
              "<Figure size 1080x1080 with 1 Axes>"
            ]
          },
          "metadata": {
            "tags": []
          }
        }
      ]
    },
    {
      "cell_type": "markdown",
      "metadata": {
        "id": "xLuAWcx7rjzN"
      },
      "source": [
        "## **8.4 Model evaluation** "
      ]
    },
    {
      "cell_type": "markdown",
      "metadata": {
        "id": "oJWznO_hrjzO"
      },
      "source": [
        "__Error__ is the _deviation_ of the values _predicted_ by the model with the _true_ values.\n",
        "\n",
        "For example, if a model **predicts** that the **price** of apple is `Rs75/kg`, but the **actual price** of apple is `Rs100/kg`, then the **error** in prediction will be `Rs25/kg`.\n",
        "\n",
        "Below are the types of error we will be calculating for our _linear regression model_:\n",
        "- Mean Absolute Error\n",
        "- Mean Squared Error\n",
        "- Root Mean Squared Error"
      ]
    },
    {
      "cell_type": "markdown",
      "metadata": {
        "id": "8s95-Z2XrjzP"
      },
      "source": [
        "__Mean Absolute Error__ (MAE) is the mean of the absolute value of the errors:\n",
        "$$\\frac 1n\\sum_{i=1}^n|y_i-\\hat{y}_i|$$\n",
        "Computing the MAE for our Sales predictions"
      ]
    },
    {
      "cell_type": "code",
      "metadata": {
        "id": "HcZiW9PNWGRf"
      },
      "source": [
        "from sklearn import metrics"
      ],
      "execution_count": 197,
      "outputs": []
    },
    {
      "cell_type": "code",
      "metadata": {
        "id": "C2U4o1CerjzQ"
      },
      "source": [
        "\n",
        "MAE_train = metrics.mean_absolute_error(y_train, y_pred_train)\n",
        "MAE_test = metrics.mean_absolute_error(y_test, y_pred_test)"
      ],
      "execution_count": 202,
      "outputs": []
    },
    {
      "cell_type": "code",
      "metadata": {
        "colab": {
          "base_uri": "https://localhost:8080/"
        },
        "id": "2FL7RPW8rjzS",
        "scrolled": false,
        "outputId": "7a7715a5-752f-4ba6-ecf5-ba9d9c672797"
      },
      "source": [
        "print('MAE for training set is {}'.format(MAE_train))\n",
        "print('MAE for test set is {}'.format(MAE_test))"
      ],
      "execution_count": 199,
      "outputs": [
        {
          "output_type": "stream",
          "text": [
            "MAE for training set is 1757887.8859272366\n",
            "MAE for test set is 1740391.9547232604\n"
          ],
          "name": "stdout"
        }
      ]
    },
    {
      "cell_type": "markdown",
      "metadata": {
        "id": "-VPFYcSrrjzV"
      },
      "source": [
        "__Mean Squared Error__ (MSE) is the mean of the squared errors:\n",
        "$$\\frac 1n\\sum_{i=1}^n(y_i-\\hat{y}_i)^2$$\n",
        "\n",
        "Computing the MSE for our Sales predictions"
      ]
    },
    {
      "cell_type": "code",
      "metadata": {
        "id": "AaYxCbnCrjzW"
      },
      "source": [
        "MSE_train = metrics.mean_squared_error(y_train, y_pred_train)\n",
        "MSE_test = metrics.mean_squared_error(y_test, y_pred_test)"
      ],
      "execution_count": 204,
      "outputs": []
    },
    {
      "cell_type": "code",
      "metadata": {
        "colab": {
          "base_uri": "https://localhost:8080/"
        },
        "id": "GImSG9CBrjzY",
        "outputId": "3ce0b3c3-b2c7-4f59-90d4-15140ace837b"
      },
      "source": [
        "print('MSE for training set is {}'.format(MSE_train))\n",
        "print('MSE for test set is {}'.format(MSE_test))"
      ],
      "execution_count": 169,
      "outputs": [
        {
          "output_type": "stream",
          "text": [
            "MSE for training set is 1855.9512501111242\n",
            "MSE for test set is 1837.0619104990285\n"
          ],
          "name": "stdout"
        }
      ]
    },
    {
      "cell_type": "markdown",
      "metadata": {
        "id": "ujilxJLhrjzc"
      },
      "source": [
        "__Root Mean Squared Error__ (RMSE) is the square root of the mean of the squared errors:\n",
        "\n",
        "$$\\sqrt{\\frac 1n\\sum_{i=1}^n(y_i-\\hat{y}_i)^2}$$\n",
        "\n",
        "Computing the RMSE for our Sales predictions"
      ]
    },
    {
      "cell_type": "code",
      "metadata": {
        "id": "-WLGQ3O3rjzc"
      },
      "source": [
        "RMSE_train = np.sqrt( metrics.mean_squared_error(y_train, y_pred_train))\n",
        "RMSE_test = np.sqrt(metrics.mean_squared_error(y_test, y_pred_test))"
      ],
      "execution_count": 205,
      "outputs": []
    },
    {
      "cell_type": "code",
      "metadata": {
        "colab": {
          "base_uri": "https://localhost:8080/"
        },
        "id": "lHQU8iOKrjzf",
        "outputId": "a155e8e2-cc8e-4b0f-cbed-c506cb13ecde"
      },
      "source": [
        "print('RMSE for training set is {}'.format(RMSE_train))\n",
        "print('RMSE for test set is {}'.format(RMSE_test))"
      ],
      "execution_count": 206,
      "outputs": [
        {
          "output_type": "stream",
          "text": [
            "RMSE for training set is 33.21565379653025\n",
            "RMSE for test set is 33.23432824848974\n"
          ],
          "name": "stdout"
        }
      ]
    },
    {
      "cell_type": "markdown",
      "metadata": {
        "id": "DsvF9LV1rjzh"
      },
      "source": [
        "Comparing these metrics:\n",
        "\n",
        "- __MAE__ is the easiest to understand, because it's the __average error.__ \n",
        "\n",
        "- __MSE__ is more popular than MAE, because MSE \"punishes\" larger errors.\n",
        "\n",
        "- __RMSE__ is even more popular than MSE, because RMSE is _interpretable_ in the \"y\" units."
      ]
    },
    {
      "cell_type": "markdown",
      "metadata": {
        "id": "0kAd1QGqrjzl"
      },
      "source": [
        "### **8.5 Model Evaluation using R-squared and Adjusted R-squared value**"
      ]
    },
    {
      "cell_type": "markdown",
      "metadata": {
        "id": "WWyleU6vrjzl"
      },
      "source": [
        "<center><img src=\"https://raw.githubusercontent.com/insaid2018/Term-2/master/images/r-square-vs-adjusted-r-square-2-638.jpg\" width=\"500\" height=\"240\" /></center>\n",
        "\n",
        "- R-squared is the **proportion of variance explained**, meaning the proportion of variance in the observed data that is explained by the model, or the reduction in error over the **null model**. (The null model just predicts the mean of the observed response, and thus it has an intercept and no slope.)\n",
        "\n",
        "\n",
        "- R-squared is between 0 and 1, and higher is better because it means that more variance is explained by the model. \n",
        "\n",
        "\n",
        "- But there is one shortcoming of Rsquare method and that is **R-squared will always increase as you add more features to the model**, even if they are unrelated to the response. \n",
        "\n",
        "\n",
        "- Thus, selecting the model with the highest R-squared is not a reliable approach for choosing the best linear model.\n",
        "\n",
        "\n",
        "There is alternative to R-squared called **adjusted R-squared** that penalizes model complexity (to control for overfitting).\n",
        "\n",
        "<br> \n",
        "<center><img src=\"https://raw.githubusercontent.com/insaid2018/Term-2/master/images/maxresdefault.jpg\" width=\"500\" height=\"240\"/></center>\n",
        "<br> \n",
        "\n",
        "- **R squared** value increase if we increase the number of independent variables. **Adjusted R-squared** increases only if a significant variable is added.  \n",
        "\n",
        " \n",
        "- **R-squared** value should be near to adjusted **R-squared**. If not, use variable selection techniques to bring **R squared** near to **Adj- R squared**.  A difference of 2% between **R square** and **Adj-R** square is acceptable."
      ]
    },
    {
      "cell_type": "code",
      "metadata": {
        "colab": {
          "base_uri": "https://localhost:8080/"
        },
        "id": "WIbNwJ0e6Yws",
        "outputId": "b36c7ef4-d914-46da-c582-0b47796cb322"
      },
      "source": [
        "r2_train = metrics.r2_score(y_train,y_pred_train)\n",
        "r2_test = metrics.r2_score(y_test,y_pred_test)\n",
        "print(\"R2 score for training set is {}\".format(r2_train))\n",
        "print(\"R2 score for test set is {}\".format(r2_test))"
      ],
      "execution_count": 207,
      "outputs": [
        {
          "output_type": "stream",
          "text": [
            "R2 score for training set is 0.7914437649956964\n",
            "R2 score for test set is 0.7904524829497075\n"
          ],
          "name": "stdout"
        }
      ]
    },
    {
      "cell_type": "code",
      "metadata": {
        "id": "ed_lrE-erjzm",
        "colab": {
          "base_uri": "https://localhost:8080/"
        },
        "outputId": "6ad5cff5-f7e6-47d5-c9e2-4f6d4e0e34ad"
      },
      "source": [
        "adj_r_squared_train = 1 - (1-r2_train)*(len(y_train)-1)/(len(y_train)-X_train.shape[1]-1)\n",
        "adj_r_squared_test = 1 - (1-r2_test)*(len(y_test)-1)/(len(y_test)-X_test.shape[1]-1)\n",
        "print(\"Adjusted R2 score for training set is {}\".format(adj_r_squared_train))\n",
        "print(\"Adjusted R2 score for test set is {}\".format(adj_r_squared_test))"
      ],
      "execution_count": 208,
      "outputs": [
        {
          "output_type": "stream",
          "text": [
            "Adjusted R2 score for training set is 0.7914411823758799\n",
            "Adjusted R2 score for test set is 0.7904421030154875\n"
          ],
          "name": "stdout"
        }
      ]
    },
    {
      "cell_type": "markdown",
      "metadata": {
        "id": "5T4peIXUrjzp"
      },
      "source": [
        "**Observation**\n",
        "\n",
        "- The **R-squared** value and **Adjusted R-squared** values for the **training** set is found to be **0.79** and **0.79** respectively\n",
        "\n",
        "- The **R-squared** value and **Adjusted R-squared** values for the **test** set is found to be **0.79** and **0.79** respectively"
      ]
    },
    {
      "cell_type": "code",
      "metadata": {
        "id": "VUpKht51icQO",
        "colab": {
          "base_uri": "https://localhost:8080/",
          "height": 718
        },
        "outputId": "4190c93e-339c-4fba-a972-e933a13e979d"
      },
      "source": [
        "data_test = pd.read_csv(\"beijing_test.csv\", index_col=0) \n",
        "print('Data Shape:', data_test.shape)\n",
        "data_test.head()\n",
        "data_test.columns\n",
        "data_test.info()\n",
        "data_test.describe()"
      ],
      "execution_count": 219,
      "outputs": [
        {
          "output_type": "stream",
          "text": [
            "Data Shape: (16728, 16)\n",
            "<class 'pandas.core.frame.DataFrame'>\n",
            "Int64Index: 16728 entries, 33649 to 35064\n",
            "Data columns (total 16 columns):\n",
            " #   Column   Non-Null Count  Dtype  \n",
            "---  ------   --------------  -----  \n",
            " 0   year     16728 non-null  int64  \n",
            " 1   month    16728 non-null  int64  \n",
            " 2   day      16728 non-null  int64  \n",
            " 3   hour     16728 non-null  int64  \n",
            " 4   PM10     16728 non-null  int64  \n",
            " 5   SO2      16728 non-null  int64  \n",
            " 6   NO2      16728 non-null  int64  \n",
            " 7   CO       16728 non-null  int64  \n",
            " 8   O3       16728 non-null  int64  \n",
            " 9   TEMP     16728 non-null  float64\n",
            " 10  PRES     16728 non-null  float64\n",
            " 11  DEWP     16728 non-null  float64\n",
            " 12  RAIN     16728 non-null  float64\n",
            " 13  wd       16728 non-null  object \n",
            " 14  WSPM     16728 non-null  float64\n",
            " 15  station  16728 non-null  object \n",
            "dtypes: float64(5), int64(9), object(2)\n",
            "memory usage: 2.2+ MB\n"
          ],
          "name": "stdout"
        },
        {
          "output_type": "execute_result",
          "data": {
            "text/html": [
              "<div>\n",
              "<style scoped>\n",
              "    .dataframe tbody tr th:only-of-type {\n",
              "        vertical-align: middle;\n",
              "    }\n",
              "\n",
              "    .dataframe tbody tr th {\n",
              "        vertical-align: top;\n",
              "    }\n",
              "\n",
              "    .dataframe thead th {\n",
              "        text-align: right;\n",
              "    }\n",
              "</style>\n",
              "<table border=\"1\" class=\"dataframe\">\n",
              "  <thead>\n",
              "    <tr style=\"text-align: right;\">\n",
              "      <th></th>\n",
              "      <th>year</th>\n",
              "      <th>month</th>\n",
              "      <th>day</th>\n",
              "      <th>hour</th>\n",
              "      <th>PM10</th>\n",
              "      <th>SO2</th>\n",
              "      <th>NO2</th>\n",
              "      <th>CO</th>\n",
              "      <th>O3</th>\n",
              "      <th>TEMP</th>\n",
              "      <th>PRES</th>\n",
              "      <th>DEWP</th>\n",
              "      <th>RAIN</th>\n",
              "      <th>WSPM</th>\n",
              "    </tr>\n",
              "  </thead>\n",
              "  <tbody>\n",
              "    <tr>\n",
              "      <th>count</th>\n",
              "      <td>16728.00000</td>\n",
              "      <td>16728.00000</td>\n",
              "      <td>16728.00000</td>\n",
              "      <td>16728.00000</td>\n",
              "      <td>16728.00000</td>\n",
              "      <td>16728.00000</td>\n",
              "      <td>16728.00000</td>\n",
              "      <td>16728.00000</td>\n",
              "      <td>16728.00000</td>\n",
              "      <td>16728.00000</td>\n",
              "      <td>16728.00000</td>\n",
              "      <td>16728.00000</td>\n",
              "      <td>16728.00000</td>\n",
              "      <td>16728.00000</td>\n",
              "    </tr>\n",
              "    <tr>\n",
              "      <th>mean</th>\n",
              "      <td>2017.00000</td>\n",
              "      <td>1.46879</td>\n",
              "      <td>15.23063</td>\n",
              "      <td>11.51417</td>\n",
              "      <td>110.71664</td>\n",
              "      <td>18.13092</td>\n",
              "      <td>57.19829</td>\n",
              "      <td>1584.66045</td>\n",
              "      <td>39.93520</td>\n",
              "      <td>0.34608</td>\n",
              "      <td>1021.83998</td>\n",
              "      <td>-13.45142</td>\n",
              "      <td>0.00247</td>\n",
              "      <td>2.00344</td>\n",
              "    </tr>\n",
              "    <tr>\n",
              "      <th>std</th>\n",
              "      <td>0.00000</td>\n",
              "      <td>0.49904</td>\n",
              "      <td>8.58316</td>\n",
              "      <td>6.93354</td>\n",
              "      <td>123.37013</td>\n",
              "      <td>19.29797</td>\n",
              "      <td>41.85503</td>\n",
              "      <td>1740.98201</td>\n",
              "      <td>31.39892</td>\n",
              "      <td>4.70655</td>\n",
              "      <td>6.27244</td>\n",
              "      <td>6.37774</td>\n",
              "      <td>0.03583</td>\n",
              "      <td>1.40687</td>\n",
              "    </tr>\n",
              "    <tr>\n",
              "      <th>min</th>\n",
              "      <td>2017.00000</td>\n",
              "      <td>1.00000</td>\n",
              "      <td>1.00000</td>\n",
              "      <td>0.00000</td>\n",
              "      <td>3.00000</td>\n",
              "      <td>1.00000</td>\n",
              "      <td>2.00000</td>\n",
              "      <td>100.00000</td>\n",
              "      <td>1.00000</td>\n",
              "      <td>-13.42500</td>\n",
              "      <td>997.10000</td>\n",
              "      <td>-31.70000</td>\n",
              "      <td>0.00000</td>\n",
              "      <td>0.00000</td>\n",
              "    </tr>\n",
              "    <tr>\n",
              "      <th>25%</th>\n",
              "      <td>2017.00000</td>\n",
              "      <td>1.00000</td>\n",
              "      <td>8.00000</td>\n",
              "      <td>6.00000</td>\n",
              "      <td>24.00000</td>\n",
              "      <td>5.00000</td>\n",
              "      <td>21.00000</td>\n",
              "      <td>400.00000</td>\n",
              "      <td>9.00000</td>\n",
              "      <td>-2.80000</td>\n",
              "      <td>1018.00000</td>\n",
              "      <td>-18.70000</td>\n",
              "      <td>0.00000</td>\n",
              "      <td>1.10000</td>\n",
              "    </tr>\n",
              "    <tr>\n",
              "      <th>50%</th>\n",
              "      <td>2017.00000</td>\n",
              "      <td>1.00000</td>\n",
              "      <td>15.00000</td>\n",
              "      <td>11.00000</td>\n",
              "      <td>68.00000</td>\n",
              "      <td>12.00000</td>\n",
              "      <td>51.00000</td>\n",
              "      <td>900.00000</td>\n",
              "      <td>38.00000</td>\n",
              "      <td>-0.20000</td>\n",
              "      <td>1022.00000</td>\n",
              "      <td>-13.00000</td>\n",
              "      <td>0.00000</td>\n",
              "      <td>1.60000</td>\n",
              "    </tr>\n",
              "    <tr>\n",
              "      <th>75%</th>\n",
              "      <td>2017.00000</td>\n",
              "      <td>2.00000</td>\n",
              "      <td>23.00000</td>\n",
              "      <td>18.00000</td>\n",
              "      <td>153.00000</td>\n",
              "      <td>25.00000</td>\n",
              "      <td>84.00000</td>\n",
              "      <td>2100.00000</td>\n",
              "      <td>64.00000</td>\n",
              "      <td>2.90000</td>\n",
              "      <td>1026.25000</td>\n",
              "      <td>-8.10000</td>\n",
              "      <td>0.00000</td>\n",
              "      <td>2.60000</td>\n",
              "    </tr>\n",
              "    <tr>\n",
              "      <th>max</th>\n",
              "      <td>2017.00000</td>\n",
              "      <td>2.00000</td>\n",
              "      <td>31.00000</td>\n",
              "      <td>23.00000</td>\n",
              "      <td>994.00000</td>\n",
              "      <td>300.00000</td>\n",
              "      <td>276.00000</td>\n",
              "      <td>10000.00000</td>\n",
              "      <td>500.00000</td>\n",
              "      <td>16.20000</td>\n",
              "      <td>1037.60000</td>\n",
              "      <td>0.90000</td>\n",
              "      <td>1.10000</td>\n",
              "      <td>12.00000</td>\n",
              "    </tr>\n",
              "  </tbody>\n",
              "</table>\n",
              "</div>"
            ],
            "text/plain": [
              "             year       month         day        hour        PM10         SO2  \\\n",
              "count 16728.00000 16728.00000 16728.00000 16728.00000 16728.00000 16728.00000   \n",
              "mean   2017.00000     1.46879    15.23063    11.51417   110.71664    18.13092   \n",
              "std       0.00000     0.49904     8.58316     6.93354   123.37013    19.29797   \n",
              "min    2017.00000     1.00000     1.00000     0.00000     3.00000     1.00000   \n",
              "25%    2017.00000     1.00000     8.00000     6.00000    24.00000     5.00000   \n",
              "50%    2017.00000     1.00000    15.00000    11.00000    68.00000    12.00000   \n",
              "75%    2017.00000     2.00000    23.00000    18.00000   153.00000    25.00000   \n",
              "max    2017.00000     2.00000    31.00000    23.00000   994.00000   300.00000   \n",
              "\n",
              "              NO2          CO          O3        TEMP        PRES        DEWP  \\\n",
              "count 16728.00000 16728.00000 16728.00000 16728.00000 16728.00000 16728.00000   \n",
              "mean     57.19829  1584.66045    39.93520     0.34608  1021.83998   -13.45142   \n",
              "std      41.85503  1740.98201    31.39892     4.70655     6.27244     6.37774   \n",
              "min       2.00000   100.00000     1.00000   -13.42500   997.10000   -31.70000   \n",
              "25%      21.00000   400.00000     9.00000    -2.80000  1018.00000   -18.70000   \n",
              "50%      51.00000   900.00000    38.00000    -0.20000  1022.00000   -13.00000   \n",
              "75%      84.00000  2100.00000    64.00000     2.90000  1026.25000    -8.10000   \n",
              "max     276.00000 10000.00000   500.00000    16.20000  1037.60000     0.90000   \n",
              "\n",
              "             RAIN        WSPM  \n",
              "count 16728.00000 16728.00000  \n",
              "mean      0.00247     2.00344  \n",
              "std       0.03583     1.40687  \n",
              "min       0.00000     0.00000  \n",
              "25%       0.00000     1.10000  \n",
              "50%       0.00000     1.60000  \n",
              "75%       0.00000     2.60000  \n",
              "max       1.10000    12.00000  "
            ]
          },
          "metadata": {
            "tags": []
          },
          "execution_count": 219
        }
      ]
    },
    {
      "cell_type": "code",
      "metadata": {
        "id": "3-icj9n-icQO",
        "colab": {
          "base_uri": "https://localhost:8080/",
          "height": 234
        },
        "outputId": "bd4d14a5-1f57-423e-a5dd-f9fcb7e8a2b0"
      },
      "source": [
        "data_test.drop(columns=['year', 'month','day','hour','O3'],inplace=True)\n",
        "data_test.drop(columns=['RAIN','station','wd','WSPM'],inplace=True)\n",
        "data_test.drop(columns=['DEWP','TEMP','PRES'],inplace=True)\n",
        "data_test.head()\n",
        "#data_test[data_test['PM10']>500]=data_test['PM10'].mean()"
      ],
      "execution_count": 220,
      "outputs": [
        {
          "output_type": "execute_result",
          "data": {
            "text/html": [
              "<div>\n",
              "<style scoped>\n",
              "    .dataframe tbody tr th:only-of-type {\n",
              "        vertical-align: middle;\n",
              "    }\n",
              "\n",
              "    .dataframe tbody tr th {\n",
              "        vertical-align: top;\n",
              "    }\n",
              "\n",
              "    .dataframe thead th {\n",
              "        text-align: right;\n",
              "    }\n",
              "</style>\n",
              "<table border=\"1\" class=\"dataframe\">\n",
              "  <thead>\n",
              "    <tr style=\"text-align: right;\">\n",
              "      <th></th>\n",
              "      <th>PM10</th>\n",
              "      <th>SO2</th>\n",
              "      <th>NO2</th>\n",
              "      <th>CO</th>\n",
              "    </tr>\n",
              "    <tr>\n",
              "      <th>REF_NO</th>\n",
              "      <th></th>\n",
              "      <th></th>\n",
              "      <th></th>\n",
              "      <th></th>\n",
              "    </tr>\n",
              "  </thead>\n",
              "  <tbody>\n",
              "    <tr>\n",
              "      <th>33649</th>\n",
              "      <td>496</td>\n",
              "      <td>8</td>\n",
              "      <td>121</td>\n",
              "      <td>6100</td>\n",
              "    </tr>\n",
              "    <tr>\n",
              "      <th>33650</th>\n",
              "      <td>497</td>\n",
              "      <td>7</td>\n",
              "      <td>113</td>\n",
              "      <td>6300</td>\n",
              "    </tr>\n",
              "    <tr>\n",
              "      <th>33651</th>\n",
              "      <td>469</td>\n",
              "      <td>7</td>\n",
              "      <td>111</td>\n",
              "      <td>6200</td>\n",
              "    </tr>\n",
              "    <tr>\n",
              "      <th>33652</th>\n",
              "      <td>425</td>\n",
              "      <td>6</td>\n",
              "      <td>109</td>\n",
              "      <td>5900</td>\n",
              "    </tr>\n",
              "    <tr>\n",
              "      <th>33653</th>\n",
              "      <td>468</td>\n",
              "      <td>10</td>\n",
              "      <td>123</td>\n",
              "      <td>7700</td>\n",
              "    </tr>\n",
              "  </tbody>\n",
              "</table>\n",
              "</div>"
            ],
            "text/plain": [
              "        PM10  SO2  NO2    CO\n",
              "REF_NO                      \n",
              "33649    496    8  121  6100\n",
              "33650    497    7  113  6300\n",
              "33651    469    7  111  6200\n",
              "33652    425    6  109  5900\n",
              "33653    468   10  123  7700"
            ]
          },
          "metadata": {
            "tags": []
          },
          "execution_count": 220
        }
      ]
    },
    {
      "cell_type": "code",
      "metadata": {
        "id": "v7P48A55icQP",
        "colab": {
          "base_uri": "https://localhost:8080/"
        },
        "outputId": "ada6cdd5-885c-4d62-9234-fc160875cd93"
      },
      "source": [
        "print('Intercept:',linreg.intercept_)          # print the intercept \n",
        "print('Coefficients:',linreg.coef_)  "
      ],
      "execution_count": 221,
      "outputs": [
        {
          "output_type": "stream",
          "text": [
            "Intercept: -5.7575371088626355\n",
            "Coefficients: [252.5374061   -7.91761572   8.70957193 172.3403976 ]\n"
          ],
          "name": "stdout"
        }
      ]
    },
    {
      "cell_type": "code",
      "metadata": {
        "id": "DEo_O-PnicQP",
        "colab": {
          "base_uri": "https://localhost:8080/",
          "height": 1000
        },
        "outputId": "343f89b9-ce2a-4841-830c-9994472c2561"
      },
      "source": [
        "import math\n",
        "feature_insaid = ['PM10','SO2','NO2','CO']                # create a Python list of feature names\n",
        "X_insaid= data_test[feature_insaid] \n",
        "\n",
        "from sklearn.preprocessing import MinMaxScaler\n",
        "scaler = MinMaxScaler().fit(X)\n",
        "X_in = scaler.transform(X_insaid)\n",
        "\n",
        "X_insaid['y_insaid']= linreg.predict(X_in) \n",
        "\n",
        "\n",
        "\n",
        "X_insaid.drop(columns=['PM10','SO2','NO2','CO'],inplace=True)\n",
        "display(X_insaid.head(50))\n",
        "X_insaid.to_csv(\"submission.csv\",index=True,header=False)"
      ],
      "execution_count": 223,
      "outputs": [
        {
          "output_type": "display_data",
          "data": {
            "text/html": [
              "<div>\n",
              "<style scoped>\n",
              "    .dataframe tbody tr th:only-of-type {\n",
              "        vertical-align: middle;\n",
              "    }\n",
              "\n",
              "    .dataframe tbody tr th {\n",
              "        vertical-align: top;\n",
              "    }\n",
              "\n",
              "    .dataframe thead th {\n",
              "        text-align: right;\n",
              "    }\n",
              "</style>\n",
              "<table border=\"1\" class=\"dataframe\">\n",
              "  <thead>\n",
              "    <tr style=\"text-align: right;\">\n",
              "      <th></th>\n",
              "      <th>y_insaid</th>\n",
              "    </tr>\n",
              "    <tr>\n",
              "      <th>REF_NO</th>\n",
              "      <th></th>\n",
              "    </tr>\n",
              "  </thead>\n",
              "  <tbody>\n",
              "    <tr>\n",
              "      <th>33649</th>\n",
              "      <td>415.63588</td>\n",
              "    </tr>\n",
              "    <tr>\n",
              "      <th>33650</th>\n",
              "      <td>419.52674</td>\n",
              "    </tr>\n",
              "    <tr>\n",
              "      <th>33651</th>\n",
              "      <td>399.95920</td>\n",
              "    </tr>\n",
              "    <tr>\n",
              "      <th>33652</th>\n",
              "      <td>366.77362</td>\n",
              "    </tr>\n",
              "    <tr>\n",
              "      <th>33653</th>\n",
              "      <td>425.75101</td>\n",
              "    </tr>\n",
              "    <tr>\n",
              "      <th>33654</th>\n",
              "      <td>419.72087</td>\n",
              "    </tr>\n",
              "    <tr>\n",
              "      <th>33655</th>\n",
              "      <td>424.73885</td>\n",
              "    </tr>\n",
              "    <tr>\n",
              "      <th>33656</th>\n",
              "      <td>404.13123</td>\n",
              "    </tr>\n",
              "    <tr>\n",
              "      <th>33657</th>\n",
              "      <td>409.98053</td>\n",
              "    </tr>\n",
              "    <tr>\n",
              "      <th>33658</th>\n",
              "      <td>381.65472</td>\n",
              "    </tr>\n",
              "    <tr>\n",
              "      <th>33659</th>\n",
              "      <td>364.67787</td>\n",
              "    </tr>\n",
              "    <tr>\n",
              "      <th>33660</th>\n",
              "      <td>360.74315</td>\n",
              "    </tr>\n",
              "    <tr>\n",
              "      <th>33661</th>\n",
              "      <td>326.11506</td>\n",
              "    </tr>\n",
              "    <tr>\n",
              "      <th>33662</th>\n",
              "      <td>406.91970</td>\n",
              "    </tr>\n",
              "    <tr>\n",
              "      <th>33663</th>\n",
              "      <td>473.73414</td>\n",
              "    </tr>\n",
              "    <tr>\n",
              "      <th>33664</th>\n",
              "      <td>489.25941</td>\n",
              "    </tr>\n",
              "    <tr>\n",
              "      <th>33665</th>\n",
              "      <td>493.00778</td>\n",
              "    </tr>\n",
              "    <tr>\n",
              "      <th>33666</th>\n",
              "      <td>468.62265</td>\n",
              "    </tr>\n",
              "    <tr>\n",
              "      <th>33667</th>\n",
              "      <td>460.10649</td>\n",
              "    </tr>\n",
              "    <tr>\n",
              "      <th>33668</th>\n",
              "      <td>437.89236</td>\n",
              "    </tr>\n",
              "    <tr>\n",
              "      <th>33669</th>\n",
              "      <td>433.77183</td>\n",
              "    </tr>\n",
              "    <tr>\n",
              "      <th>33670</th>\n",
              "      <td>436.51042</td>\n",
              "    </tr>\n",
              "    <tr>\n",
              "      <th>33671</th>\n",
              "      <td>417.42289</td>\n",
              "    </tr>\n",
              "    <tr>\n",
              "      <th>33672</th>\n",
              "      <td>394.85528</td>\n",
              "    </tr>\n",
              "    <tr>\n",
              "      <th>33673</th>\n",
              "      <td>411.76420</td>\n",
              "    </tr>\n",
              "    <tr>\n",
              "      <th>33674</th>\n",
              "      <td>431.17891</td>\n",
              "    </tr>\n",
              "    <tr>\n",
              "      <th>33675</th>\n",
              "      <td>458.04563</td>\n",
              "    </tr>\n",
              "    <tr>\n",
              "      <th>33676</th>\n",
              "      <td>380.67349</td>\n",
              "    </tr>\n",
              "    <tr>\n",
              "      <th>33677</th>\n",
              "      <td>185.67698</td>\n",
              "    </tr>\n",
              "    <tr>\n",
              "      <th>33678</th>\n",
              "      <td>105.52412</td>\n",
              "    </tr>\n",
              "    <tr>\n",
              "      <th>33679</th>\n",
              "      <td>47.72337</td>\n",
              "    </tr>\n",
              "    <tr>\n",
              "      <th>33680</th>\n",
              "      <td>35.90261</td>\n",
              "    </tr>\n",
              "    <tr>\n",
              "      <th>33681</th>\n",
              "      <td>17.66881</td>\n",
              "    </tr>\n",
              "    <tr>\n",
              "      <th>33682</th>\n",
              "      <td>16.20535</td>\n",
              "    </tr>\n",
              "    <tr>\n",
              "      <th>33683</th>\n",
              "      <td>18.98227</td>\n",
              "    </tr>\n",
              "    <tr>\n",
              "      <th>33684</th>\n",
              "      <td>13.75474</td>\n",
              "    </tr>\n",
              "    <tr>\n",
              "      <th>33685</th>\n",
              "      <td>191.81166</td>\n",
              "    </tr>\n",
              "    <tr>\n",
              "      <th>33686</th>\n",
              "      <td>157.81988</td>\n",
              "    </tr>\n",
              "    <tr>\n",
              "      <th>33687</th>\n",
              "      <td>172.72041</td>\n",
              "    </tr>\n",
              "    <tr>\n",
              "      <th>33688</th>\n",
              "      <td>237.20253</td>\n",
              "    </tr>\n",
              "    <tr>\n",
              "      <th>33689</th>\n",
              "      <td>227.25293</td>\n",
              "    </tr>\n",
              "    <tr>\n",
              "      <th>33690</th>\n",
              "      <td>191.54668</td>\n",
              "    </tr>\n",
              "    <tr>\n",
              "      <th>33691</th>\n",
              "      <td>162.67070</td>\n",
              "    </tr>\n",
              "    <tr>\n",
              "      <th>33692</th>\n",
              "      <td>119.99969</td>\n",
              "    </tr>\n",
              "    <tr>\n",
              "      <th>33693</th>\n",
              "      <td>118.90923</td>\n",
              "    </tr>\n",
              "    <tr>\n",
              "      <th>33694</th>\n",
              "      <td>109.58437</td>\n",
              "    </tr>\n",
              "    <tr>\n",
              "      <th>33695</th>\n",
              "      <td>134.84074</td>\n",
              "    </tr>\n",
              "    <tr>\n",
              "      <th>33696</th>\n",
              "      <td>153.44232</td>\n",
              "    </tr>\n",
              "    <tr>\n",
              "      <th>33697</th>\n",
              "      <td>223.36838</td>\n",
              "    </tr>\n",
              "    <tr>\n",
              "      <th>33698</th>\n",
              "      <td>281.42854</td>\n",
              "    </tr>\n",
              "  </tbody>\n",
              "</table>\n",
              "</div>"
            ],
            "text/plain": [
              "        y_insaid\n",
              "REF_NO          \n",
              "33649  415.63588\n",
              "33650  419.52674\n",
              "33651  399.95920\n",
              "33652  366.77362\n",
              "33653  425.75101\n",
              "33654  419.72087\n",
              "33655  424.73885\n",
              "33656  404.13123\n",
              "33657  409.98053\n",
              "33658  381.65472\n",
              "33659  364.67787\n",
              "33660  360.74315\n",
              "33661  326.11506\n",
              "33662  406.91970\n",
              "33663  473.73414\n",
              "33664  489.25941\n",
              "33665  493.00778\n",
              "33666  468.62265\n",
              "33667  460.10649\n",
              "33668  437.89236\n",
              "33669  433.77183\n",
              "33670  436.51042\n",
              "33671  417.42289\n",
              "33672  394.85528\n",
              "33673  411.76420\n",
              "33674  431.17891\n",
              "33675  458.04563\n",
              "33676  380.67349\n",
              "33677  185.67698\n",
              "33678  105.52412\n",
              "33679   47.72337\n",
              "33680   35.90261\n",
              "33681   17.66881\n",
              "33682   16.20535\n",
              "33683   18.98227\n",
              "33684   13.75474\n",
              "33685  191.81166\n",
              "33686  157.81988\n",
              "33687  172.72041\n",
              "33688  237.20253\n",
              "33689  227.25293\n",
              "33690  191.54668\n",
              "33691  162.67070\n",
              "33692  119.99969\n",
              "33693  118.90923\n",
              "33694  109.58437\n",
              "33695  134.84074\n",
              "33696  153.44232\n",
              "33697  223.36838\n",
              "33698  281.42854"
            ]
          },
          "metadata": {
            "tags": []
          }
        }
      ]
    },
    {
      "cell_type": "markdown",
      "metadata": {
        "id": "GiV_JoEoGb_L"
      },
      "source": [
        "<a name = Section9></a>\n",
        "\n",
        "---\n",
        "# **9. Conclusion**\n",
        "---\n",
        "\n",
        "- We **studied in breifly about the data**, its **characteristics** and its **distribution**.\n",
        "\n",
        "- We **investigated about the features** which to **retain** and which to **discard**.\n",
        "\n",
        "- The best **Linear Regression** model for this dataset is found to be the one with the **Area** data.\n"
      ]
    },
    {
      "cell_type": "code",
      "metadata": {
        "id": "sNllnpnWicQQ",
        "outputId": "efa5d537-4d89-4422-8b92-22e9a2fe6d64"
      },
      "source": [
        "data_sample = pd.read_csv(r\"C:\\Users\\satvik\\Desktop\\datascience\\madhavi\\Madhavi_ML\\ML_project\\beijing_sample.csv\", index_col=0) \n",
        "print('Data Shape:', data_sample.shape)\n",
        "display(data_sample.head())\n",
        "data_sample.columns"
      ],
      "execution_count": null,
      "outputs": [
        {
          "output_type": "error",
          "ename": "FileNotFoundError",
          "evalue": "[Errno 2] No such file or directory: 'C:\\\\Users\\\\satvik\\\\Desktop\\\\datascience\\\\madhavi\\\\Madhavi_ML\\\\ML_project\\\\beijing_sample.csv'",
          "traceback": [
            "\u001b[1;31m---------------------------------------------------------------------------\u001b[0m",
            "\u001b[1;31mFileNotFoundError\u001b[0m                         Traceback (most recent call last)",
            "\u001b[1;32m<ipython-input-129-7a519b4d4d43>\u001b[0m in \u001b[0;36m<module>\u001b[1;34m\u001b[0m\n\u001b[1;32m----> 1\u001b[1;33m \u001b[0mdata_sample\u001b[0m \u001b[1;33m=\u001b[0m \u001b[0mpd\u001b[0m\u001b[1;33m.\u001b[0m\u001b[0mread_csv\u001b[0m\u001b[1;33m(\u001b[0m\u001b[1;34mr\"C:\\Users\\satvik\\Desktop\\datascience\\madhavi\\Madhavi_ML\\ML_project\\beijing_sample.csv\"\u001b[0m\u001b[1;33m,\u001b[0m \u001b[0mindex_col\u001b[0m\u001b[1;33m=\u001b[0m\u001b[1;36m0\u001b[0m\u001b[1;33m)\u001b[0m\u001b[1;33m\u001b[0m\u001b[1;33m\u001b[0m\u001b[0m\n\u001b[0m\u001b[0;32m      2\u001b[0m \u001b[0mprint\u001b[0m\u001b[1;33m(\u001b[0m\u001b[1;34m'Data Shape:'\u001b[0m\u001b[1;33m,\u001b[0m \u001b[0mdata_sample\u001b[0m\u001b[1;33m.\u001b[0m\u001b[0mshape\u001b[0m\u001b[1;33m)\u001b[0m\u001b[1;33m\u001b[0m\u001b[1;33m\u001b[0m\u001b[0m\n\u001b[0;32m      3\u001b[0m \u001b[0mdisplay\u001b[0m\u001b[1;33m(\u001b[0m\u001b[0mdata_sample\u001b[0m\u001b[1;33m.\u001b[0m\u001b[0mhead\u001b[0m\u001b[1;33m(\u001b[0m\u001b[1;33m)\u001b[0m\u001b[1;33m)\u001b[0m\u001b[1;33m\u001b[0m\u001b[1;33m\u001b[0m\u001b[0m\n\u001b[0;32m      4\u001b[0m \u001b[0mdata_sample\u001b[0m\u001b[1;33m.\u001b[0m\u001b[0mcolumns\u001b[0m\u001b[1;33m\u001b[0m\u001b[1;33m\u001b[0m\u001b[0m\n",
            "\u001b[1;32m~\\anaconda3\\lib\\site-packages\\pandas\\io\\parsers.py\u001b[0m in \u001b[0;36mread_csv\u001b[1;34m(filepath_or_buffer, sep, delimiter, header, names, index_col, usecols, squeeze, prefix, mangle_dupe_cols, dtype, engine, converters, true_values, false_values, skipinitialspace, skiprows, skipfooter, nrows, na_values, keep_default_na, na_filter, verbose, skip_blank_lines, parse_dates, infer_datetime_format, keep_date_col, date_parser, dayfirst, cache_dates, iterator, chunksize, compression, thousands, decimal, lineterminator, quotechar, quoting, doublequote, escapechar, comment, encoding, dialect, error_bad_lines, warn_bad_lines, delim_whitespace, low_memory, memory_map, float_precision, storage_options)\u001b[0m\n\u001b[0;32m    608\u001b[0m     \u001b[0mkwds\u001b[0m\u001b[1;33m.\u001b[0m\u001b[0mupdate\u001b[0m\u001b[1;33m(\u001b[0m\u001b[0mkwds_defaults\u001b[0m\u001b[1;33m)\u001b[0m\u001b[1;33m\u001b[0m\u001b[1;33m\u001b[0m\u001b[0m\n\u001b[0;32m    609\u001b[0m \u001b[1;33m\u001b[0m\u001b[0m\n\u001b[1;32m--> 610\u001b[1;33m     \u001b[1;32mreturn\u001b[0m \u001b[0m_read\u001b[0m\u001b[1;33m(\u001b[0m\u001b[0mfilepath_or_buffer\u001b[0m\u001b[1;33m,\u001b[0m \u001b[0mkwds\u001b[0m\u001b[1;33m)\u001b[0m\u001b[1;33m\u001b[0m\u001b[1;33m\u001b[0m\u001b[0m\n\u001b[0m\u001b[0;32m    611\u001b[0m \u001b[1;33m\u001b[0m\u001b[0m\n\u001b[0;32m    612\u001b[0m \u001b[1;33m\u001b[0m\u001b[0m\n",
            "\u001b[1;32m~\\anaconda3\\lib\\site-packages\\pandas\\io\\parsers.py\u001b[0m in \u001b[0;36m_read\u001b[1;34m(filepath_or_buffer, kwds)\u001b[0m\n\u001b[0;32m    460\u001b[0m \u001b[1;33m\u001b[0m\u001b[0m\n\u001b[0;32m    461\u001b[0m     \u001b[1;31m# Create the parser.\u001b[0m\u001b[1;33m\u001b[0m\u001b[1;33m\u001b[0m\u001b[1;33m\u001b[0m\u001b[0m\n\u001b[1;32m--> 462\u001b[1;33m     \u001b[0mparser\u001b[0m \u001b[1;33m=\u001b[0m \u001b[0mTextFileReader\u001b[0m\u001b[1;33m(\u001b[0m\u001b[0mfilepath_or_buffer\u001b[0m\u001b[1;33m,\u001b[0m \u001b[1;33m**\u001b[0m\u001b[0mkwds\u001b[0m\u001b[1;33m)\u001b[0m\u001b[1;33m\u001b[0m\u001b[1;33m\u001b[0m\u001b[0m\n\u001b[0m\u001b[0;32m    463\u001b[0m \u001b[1;33m\u001b[0m\u001b[0m\n\u001b[0;32m    464\u001b[0m     \u001b[1;32mif\u001b[0m \u001b[0mchunksize\u001b[0m \u001b[1;32mor\u001b[0m \u001b[0miterator\u001b[0m\u001b[1;33m:\u001b[0m\u001b[1;33m\u001b[0m\u001b[1;33m\u001b[0m\u001b[0m\n",
            "\u001b[1;32m~\\anaconda3\\lib\\site-packages\\pandas\\io\\parsers.py\u001b[0m in \u001b[0;36m__init__\u001b[1;34m(self, f, engine, **kwds)\u001b[0m\n\u001b[0;32m    817\u001b[0m             \u001b[0mself\u001b[0m\u001b[1;33m.\u001b[0m\u001b[0moptions\u001b[0m\u001b[1;33m[\u001b[0m\u001b[1;34m\"has_index_names\"\u001b[0m\u001b[1;33m]\u001b[0m \u001b[1;33m=\u001b[0m \u001b[0mkwds\u001b[0m\u001b[1;33m[\u001b[0m\u001b[1;34m\"has_index_names\"\u001b[0m\u001b[1;33m]\u001b[0m\u001b[1;33m\u001b[0m\u001b[1;33m\u001b[0m\u001b[0m\n\u001b[0;32m    818\u001b[0m \u001b[1;33m\u001b[0m\u001b[0m\n\u001b[1;32m--> 819\u001b[1;33m         \u001b[0mself\u001b[0m\u001b[1;33m.\u001b[0m\u001b[0m_engine\u001b[0m \u001b[1;33m=\u001b[0m \u001b[0mself\u001b[0m\u001b[1;33m.\u001b[0m\u001b[0m_make_engine\u001b[0m\u001b[1;33m(\u001b[0m\u001b[0mself\u001b[0m\u001b[1;33m.\u001b[0m\u001b[0mengine\u001b[0m\u001b[1;33m)\u001b[0m\u001b[1;33m\u001b[0m\u001b[1;33m\u001b[0m\u001b[0m\n\u001b[0m\u001b[0;32m    820\u001b[0m \u001b[1;33m\u001b[0m\u001b[0m\n\u001b[0;32m    821\u001b[0m     \u001b[1;32mdef\u001b[0m \u001b[0mclose\u001b[0m\u001b[1;33m(\u001b[0m\u001b[0mself\u001b[0m\u001b[1;33m)\u001b[0m\u001b[1;33m:\u001b[0m\u001b[1;33m\u001b[0m\u001b[1;33m\u001b[0m\u001b[0m\n",
            "\u001b[1;32m~\\anaconda3\\lib\\site-packages\\pandas\\io\\parsers.py\u001b[0m in \u001b[0;36m_make_engine\u001b[1;34m(self, engine)\u001b[0m\n\u001b[0;32m   1048\u001b[0m             )\n\u001b[0;32m   1049\u001b[0m         \u001b[1;31m# error: Too many arguments for \"ParserBase\"\u001b[0m\u001b[1;33m\u001b[0m\u001b[1;33m\u001b[0m\u001b[1;33m\u001b[0m\u001b[0m\n\u001b[1;32m-> 1050\u001b[1;33m         \u001b[1;32mreturn\u001b[0m \u001b[0mmapping\u001b[0m\u001b[1;33m[\u001b[0m\u001b[0mengine\u001b[0m\u001b[1;33m]\u001b[0m\u001b[1;33m(\u001b[0m\u001b[0mself\u001b[0m\u001b[1;33m.\u001b[0m\u001b[0mf\u001b[0m\u001b[1;33m,\u001b[0m \u001b[1;33m**\u001b[0m\u001b[0mself\u001b[0m\u001b[1;33m.\u001b[0m\u001b[0moptions\u001b[0m\u001b[1;33m)\u001b[0m  \u001b[1;31m# type: ignore[call-arg]\u001b[0m\u001b[1;33m\u001b[0m\u001b[1;33m\u001b[0m\u001b[0m\n\u001b[0m\u001b[0;32m   1051\u001b[0m \u001b[1;33m\u001b[0m\u001b[0m\n\u001b[0;32m   1052\u001b[0m     \u001b[1;32mdef\u001b[0m \u001b[0m_failover_to_python\u001b[0m\u001b[1;33m(\u001b[0m\u001b[0mself\u001b[0m\u001b[1;33m)\u001b[0m\u001b[1;33m:\u001b[0m\u001b[1;33m\u001b[0m\u001b[1;33m\u001b[0m\u001b[0m\n",
            "\u001b[1;32m~\\anaconda3\\lib\\site-packages\\pandas\\io\\parsers.py\u001b[0m in \u001b[0;36m__init__\u001b[1;34m(self, src, **kwds)\u001b[0m\n\u001b[0;32m   1865\u001b[0m \u001b[1;33m\u001b[0m\u001b[0m\n\u001b[0;32m   1866\u001b[0m         \u001b[1;31m# open handles\u001b[0m\u001b[1;33m\u001b[0m\u001b[1;33m\u001b[0m\u001b[1;33m\u001b[0m\u001b[0m\n\u001b[1;32m-> 1867\u001b[1;33m         \u001b[0mself\u001b[0m\u001b[1;33m.\u001b[0m\u001b[0m_open_handles\u001b[0m\u001b[1;33m(\u001b[0m\u001b[0msrc\u001b[0m\u001b[1;33m,\u001b[0m \u001b[0mkwds\u001b[0m\u001b[1;33m)\u001b[0m\u001b[1;33m\u001b[0m\u001b[1;33m\u001b[0m\u001b[0m\n\u001b[0m\u001b[0;32m   1868\u001b[0m         \u001b[1;32massert\u001b[0m \u001b[0mself\u001b[0m\u001b[1;33m.\u001b[0m\u001b[0mhandles\u001b[0m \u001b[1;32mis\u001b[0m \u001b[1;32mnot\u001b[0m \u001b[1;32mNone\u001b[0m\u001b[1;33m\u001b[0m\u001b[1;33m\u001b[0m\u001b[0m\n\u001b[0;32m   1869\u001b[0m         \u001b[1;32mfor\u001b[0m \u001b[0mkey\u001b[0m \u001b[1;32min\u001b[0m \u001b[1;33m(\u001b[0m\u001b[1;34m\"storage_options\"\u001b[0m\u001b[1;33m,\u001b[0m \u001b[1;34m\"encoding\"\u001b[0m\u001b[1;33m,\u001b[0m \u001b[1;34m\"memory_map\"\u001b[0m\u001b[1;33m,\u001b[0m \u001b[1;34m\"compression\"\u001b[0m\u001b[1;33m)\u001b[0m\u001b[1;33m:\u001b[0m\u001b[1;33m\u001b[0m\u001b[1;33m\u001b[0m\u001b[0m\n",
            "\u001b[1;32m~\\anaconda3\\lib\\site-packages\\pandas\\io\\parsers.py\u001b[0m in \u001b[0;36m_open_handles\u001b[1;34m(self, src, kwds)\u001b[0m\n\u001b[0;32m   1360\u001b[0m         \u001b[0mLet\u001b[0m \u001b[0mthe\u001b[0m \u001b[0mreaders\u001b[0m \u001b[0mopen\u001b[0m \u001b[0mIOHanldes\u001b[0m \u001b[0mafter\u001b[0m \u001b[0mthey\u001b[0m \u001b[0mare\u001b[0m \u001b[0mdone\u001b[0m \u001b[1;32mwith\u001b[0m \u001b[0mtheir\u001b[0m \u001b[0mpotential\u001b[0m \u001b[0mraises\u001b[0m\u001b[1;33m.\u001b[0m\u001b[1;33m\u001b[0m\u001b[1;33m\u001b[0m\u001b[0m\n\u001b[0;32m   1361\u001b[0m         \"\"\"\n\u001b[1;32m-> 1362\u001b[1;33m         self.handles = get_handle(\n\u001b[0m\u001b[0;32m   1363\u001b[0m             \u001b[0msrc\u001b[0m\u001b[1;33m,\u001b[0m\u001b[1;33m\u001b[0m\u001b[1;33m\u001b[0m\u001b[0m\n\u001b[0;32m   1364\u001b[0m             \u001b[1;34m\"r\"\u001b[0m\u001b[1;33m,\u001b[0m\u001b[1;33m\u001b[0m\u001b[1;33m\u001b[0m\u001b[0m\n",
            "\u001b[1;32m~\\anaconda3\\lib\\site-packages\\pandas\\io\\common.py\u001b[0m in \u001b[0;36mget_handle\u001b[1;34m(path_or_buf, mode, encoding, compression, memory_map, is_text, errors, storage_options)\u001b[0m\n\u001b[0;32m    640\u001b[0m                 \u001b[0merrors\u001b[0m \u001b[1;33m=\u001b[0m \u001b[1;34m\"replace\"\u001b[0m\u001b[1;33m\u001b[0m\u001b[1;33m\u001b[0m\u001b[0m\n\u001b[0;32m    641\u001b[0m             \u001b[1;31m# Encoding\u001b[0m\u001b[1;33m\u001b[0m\u001b[1;33m\u001b[0m\u001b[1;33m\u001b[0m\u001b[0m\n\u001b[1;32m--> 642\u001b[1;33m             handle = open(\n\u001b[0m\u001b[0;32m    643\u001b[0m                 \u001b[0mhandle\u001b[0m\u001b[1;33m,\u001b[0m\u001b[1;33m\u001b[0m\u001b[1;33m\u001b[0m\u001b[0m\n\u001b[0;32m    644\u001b[0m                 \u001b[0mioargs\u001b[0m\u001b[1;33m.\u001b[0m\u001b[0mmode\u001b[0m\u001b[1;33m,\u001b[0m\u001b[1;33m\u001b[0m\u001b[1;33m\u001b[0m\u001b[0m\n",
            "\u001b[1;31mFileNotFoundError\u001b[0m: [Errno 2] No such file or directory: 'C:\\\\Users\\\\satvik\\\\Desktop\\\\datascience\\\\madhavi\\\\Madhavi_ML\\\\ML_project\\\\beijing_sample.csv'"
          ]
        }
      ]
    },
    {
      "cell_type": "code",
      "metadata": {
        "id": "HWpqpVUhicQQ"
      },
      "source": [
        ""
      ],
      "execution_count": null,
      "outputs": []
    }
  ]
}